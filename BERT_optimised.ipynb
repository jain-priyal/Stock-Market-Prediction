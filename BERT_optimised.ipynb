{
 "cells": [
  {
   "cell_type": "markdown",
   "id": "42d5ee62-ce5e-4744-97d1-a1107047b989",
   "metadata": {},
   "source": [
    "# Part C: Modeling"
   ]
  },
  {
   "cell_type": "markdown",
   "id": "88ed1a3a",
   "metadata": {},
   "source": [
    "## Extend a fine-tuning method"
   ]
  },
  {
   "cell_type": "markdown",
   "id": "1f546d2d",
   "metadata": {},
   "source": [
    "In this part, we use a natural language processing model, BERT, for our project. BERT is a machine learning framework which has been pre-trained using text from Wikipedia and BookCorpus which can provide a fuller understanding of the model's data. BERT can be fine-tuned to tailor various task such as sentiment analysis and named entity recognition."
   ]
  },
  {
   "cell_type": "code",
   "execution_count": 1,
   "id": "1da234f7",
   "metadata": {},
   "outputs": [],
   "source": [
    "import torch \n",
    "import torch.optim as optim \n",
    "import numpy as np \n",
    "import pandas as pd\n",
    "import random \n",
    "from tqdm import tqdm \n",
    "import matplotlib.pyplot as plt \n",
    "from torch.utils.data import Dataset, DataLoader\n",
    "from sklearn.model_selection import train_test_split\n",
    "from transformers import BertTokenizer, BertForSequenceClassification, get_cosine_with_hard_restarts_schedule_with_warmup\n",
    "from torch.utils.data import Dataset, DataLoader\n",
    "from datasets import load_dataset\n",
    "from sklearn.metrics import classification_report\n",
    "\n",
    "def set_seeds(seed):\n",
    "    random.seed(seed) \n",
    "    np.random.seed(seed)  \n",
    "    torch.manual_seed(seed)\n",
    "    if torch.cuda.is_available():\n",
    "        torch.cuda.manual_seed(seed)\n",
    "        torch.cuda.manual_seed_all(seed) \n",
    "    torch.backends.cudnn.benchmark = False\n",
    "    torch.backends.cudnn.deterministic = True\n",
    "    \n",
    "set_seeds(0)"
   ]
  },
  {
   "cell_type": "markdown",
   "id": "829f6866",
   "metadata": {},
   "source": [
    "## Step 1: Processing the data and combining two datasets"
   ]
  },
  {
   "cell_type": "code",
   "execution_count": 2,
   "id": "9db2a5e7",
   "metadata": {},
   "outputs": [
    {
     "name": "stdout",
     "output_type": "stream",
     "text": [
      "Trainset: 6152\n",
      "Validset: 970\n"
     ]
    }
   ],
   "source": [
    "new_df = pd.read_csv('final-data-updated.csv', encoding='utf-8-sig')\n",
    "new_df = new_df.dropna(subset=['Sentiment'])\n",
    "\n",
    "dataset = load_dataset('financial_phrasebank', 'sentences_50agree')\n",
    "train_dataset = dataset['train']\n",
    "\n",
    "# Extract data from Hugging Face\n",
    "huggingface_x = train_dataset['sentence']\n",
    "huggingface_y = train_dataset['label']\n",
    "\n",
    "# Extract columns from our dataset\n",
    "new_x = new_df['Summary'].tolist()\n",
    "new_y = new_df['Sentiment'].tolist()\n",
    "\n",
    "# Split dataset into train and test sets\n",
    "x_train, x_valid, y_train, y_valid = train_test_split(huggingface_x, huggingface_y, test_size=0.2, random_state=42)\n",
    "x_train += new_x\n",
    "y_train += new_y\n",
    "\n",
    "print(\"Trainset:\", len(x_train))\n",
    "print(\"Validset:\", len(x_valid))\n"
   ]
  },
  {
   "cell_type": "code",
   "execution_count": 3,
   "id": "854f012a",
   "metadata": {},
   "outputs": [],
   "source": [
    "# Convert to Pytorch format\n",
    "class News(Dataset):\n",
    "    def __init__(self, x, y):\n",
    "        self.x = x\n",
    "        self.y = y\n",
    "    def __getitem__(self, index):\n",
    "        return self.x[index], self.y[index]\n",
    "    def __len__(self):\n",
    "        return len(self.x)\n",
    "    \n",
    "trainset = News(x_train, y_train)\n",
    "validset = News(x_valid, y_valid)\n",
    "\n",
    "def collate_fn(batch):   \n",
    "    # Batch retrieval \n",
    "    (x, y) = zip(*batch)\n",
    "    # Tokenise  x into tesnor (datatype = float)\n",
    "    x = tokenizer(x, max_length=512, truncation=True, padding=\"longest\", return_tensors='pt')\n",
    "    # Preparing labels (datatype = int)\n",
    "    y = {'labels': torch.LongTensor(y)}\n",
    "    return {**x, **y}\n",
    "\n",
    "# Initial tokenizer\n",
    "tokenizer = BertTokenizer.from_pretrained(\"textattack/bert-base-uncased-yelp-polarity\")\n",
    "# Set up a DataLoader for the training dataset\n",
    "train_loader = DataLoader(trainset, batch_size = 16, shuffle = True, num_workers = 0, pin_memory = True, collate_fn=collate_fn)\n",
    "# Set up a DataLoader for the testing dataset\n",
    "valid_loader = DataLoader(validset, batch_size = 16, shuffle = True, num_workers = 0, pin_memory = True, collate_fn=collate_fn)"
   ]
  },
  {
   "cell_type": "markdown",
   "id": "1d41298b",
   "metadata": {},
   "source": [
    "## Step 2: Defining functions for model training"
   ]
  },
  {
   "cell_type": "markdown",
   "id": "5a00bddb",
   "metadata": {},
   "source": [
    "The below code defines functions to train and validate model using PyTorch, specifically tailored for our classification tasks. \n",
    "\n",
    "1. **Training function**: This function iterates over training data. For each batch, the code resets model gradients back to zero, performs a forward pass to compute the outputs and loss. Then conducts backpropogatoin, following by an optimisation to update model weights. \n",
    "\n",
    "2. **Validation function**:  Similar to the training function, this function iterates over the validation data to evaluate the model's performance without updating model weights."
   ]
  },
  {
   "cell_type": "code",
   "execution_count": 4,
   "id": "2b3659aa",
   "metadata": {},
   "outputs": [
    {
     "name": "stderr",
     "output_type": "stream",
     "text": [
      "Some weights of BertForSequenceClassification were not initialized from the model checkpoint at textattack/bert-base-uncased-yelp-polarity and are newly initialized because the shapes did not match:\n",
      "- classifier.weight: found shape torch.Size([2, 768]) in the checkpoint and torch.Size([3, 768]) in the model instantiated\n",
      "- classifier.bias: found shape torch.Size([2]) in the checkpoint and torch.Size([3]) in the model instantiated\n",
      "You should probably TRAIN this model on a down-stream task to be able to use it for predictions and inference.\n"
     ]
    },
    {
     "data": {
      "text/plain": [
       "BertForSequenceClassification(\n",
       "  (bert): BertModel(\n",
       "    (embeddings): BertEmbeddings(\n",
       "      (word_embeddings): Embedding(30522, 768, padding_idx=0)\n",
       "      (position_embeddings): Embedding(512, 768)\n",
       "      (token_type_embeddings): Embedding(2, 768)\n",
       "      (LayerNorm): LayerNorm((768,), eps=1e-12, elementwise_affine=True)\n",
       "      (dropout): Dropout(p=0.1, inplace=False)\n",
       "    )\n",
       "    (encoder): BertEncoder(\n",
       "      (layer): ModuleList(\n",
       "        (0-11): 12 x BertLayer(\n",
       "          (attention): BertAttention(\n",
       "            (self): BertSelfAttention(\n",
       "              (query): Linear(in_features=768, out_features=768, bias=True)\n",
       "              (key): Linear(in_features=768, out_features=768, bias=True)\n",
       "              (value): Linear(in_features=768, out_features=768, bias=True)\n",
       "              (dropout): Dropout(p=0.1, inplace=False)\n",
       "            )\n",
       "            (output): BertSelfOutput(\n",
       "              (dense): Linear(in_features=768, out_features=768, bias=True)\n",
       "              (LayerNorm): LayerNorm((768,), eps=1e-12, elementwise_affine=True)\n",
       "              (dropout): Dropout(p=0.1, inplace=False)\n",
       "            )\n",
       "          )\n",
       "          (intermediate): BertIntermediate(\n",
       "            (dense): Linear(in_features=768, out_features=3072, bias=True)\n",
       "            (intermediate_act_fn): GELUActivation()\n",
       "          )\n",
       "          (output): BertOutput(\n",
       "            (dense): Linear(in_features=3072, out_features=768, bias=True)\n",
       "            (LayerNorm): LayerNorm((768,), eps=1e-12, elementwise_affine=True)\n",
       "            (dropout): Dropout(p=0.1, inplace=False)\n",
       "          )\n",
       "        )\n",
       "      )\n",
       "    )\n",
       "    (pooler): BertPooler(\n",
       "      (dense): Linear(in_features=768, out_features=768, bias=True)\n",
       "      (activation): Tanh()\n",
       "    )\n",
       "  )\n",
       "  (dropout): Dropout(p=0.1, inplace=False)\n",
       "  (classifier): Linear(in_features=768, out_features=3, bias=True)\n",
       ")"
      ]
     },
     "execution_count": 4,
     "metadata": {},
     "output_type": "execute_result"
    }
   ],
   "source": [
    "def train(epoch):\n",
    "    train_loss, train_acc = 0, 0\n",
    "    train_pbar = tqdm(train_loader, position=0, leave=True)\n",
    "    \n",
    "    model.train()\n",
    "    for input_datas in train_pbar:\n",
    "        for key in input_datas.keys():\n",
    "            input_datas[key] = input_datas[key].to(device)\n",
    "        optimizer.zero_grad() # grad -> 0 to prevent gradient from accumulating\n",
    "        outputs = model(**input_datas) # forward propagation\n",
    "        \n",
    "        logits = outputs.logits\n",
    "        loss = outputs.loss\n",
    "        \n",
    "        loss.backward() # backpropogation\n",
    "        optimizer.step() # update weight\n",
    "        scheduler.step() # update schedular to adjust learning rate\n",
    "        \n",
    "        train_pbar.set_description(f'Train Epoch {epoch}')\n",
    "        train_pbar.set_postfix({'loss':f'{loss:.3f}'}) # show current loss\n",
    "        \n",
    "        pred = torch.argmax(logits, dim = 1)\n",
    "        train_acc += sum(pred == input_datas['labels'])\n",
    "        train_loss += loss.item() # save information of loss\n",
    "    return train_loss/len(train_loader), train_acc/len(trainset) # loss & accuracy\n",
    "\n",
    "def valid(epoch):\n",
    "    valid_loss, valid_acc = 0, 0\n",
    "    valid_pbar = tqdm(valid_loader, position=0, leave=True)\n",
    "    y_preds, y_trues = [], []\n",
    "    model.eval()\n",
    "    with torch.no_grad(): \n",
    "        for input_datas in valid_pbar:\n",
    "            for key in input_datas.keys():\n",
    "                input_datas[key] = input_datas[key].to(device)\n",
    "            \n",
    "            outputs = model(**input_datas)\n",
    "            logits = outputs.logits\n",
    "            loss = outputs.loss\n",
    "            \n",
    "            valid_pbar.set_description(f'Valid Epoch {epoch}')\n",
    "            valid_pbar.set_postfix({'loss':f'{loss:.3f}'})\n",
    "\n",
    "            pred = torch.argmax(logits, dim = 1)\n",
    "            valid_acc += sum(pred == input_datas['labels'])\n",
    "            valid_loss += loss.item()\n",
    "\n",
    "            y_trues.extend(input_datas['labels'].cpu())\n",
    "            y_preds.extend(pred.cpu())\n",
    "\n",
    "    print(classification_report(y_trues, y_preds))\n",
    "\n",
    "    return valid_loss/len(valid_loader), valid_acc/len(validset)\n",
    "\n",
    "# Function for plotting the result of loss   \n",
    "def show_training_loss(loss_record):\n",
    "    train_loss, valid_loss = [i for i in loss_record.values()]\n",
    "    \n",
    "    plt.plot(train_loss)\n",
    "    plt.plot(valid_loss)\n",
    "    plt.title('Result')\n",
    "    plt.ylabel('Loss')\n",
    "    plt.xlabel('Epoch')\n",
    "    plt.legend(['train', 'valid'], loc='upper left')\n",
    "    plt.show()\n",
    "\n",
    "device = torch.device('cuda' if torch.cuda.is_available() else 'cpu')\n",
    "model = BertForSequenceClassification.from_pretrained(\"textattack/bert-base-uncased-yelp-polarity\", num_labels = 3, ignore_mismatched_sizes=True)\n",
    "model.to(device)"
   ]
  },
  {
   "cell_type": "markdown",
   "id": "73dd705f",
   "metadata": {},
   "source": [
    "## Step 3: Model initialisation -> Training & Validation"
   ]
  },
  {
   "cell_type": "markdown",
   "id": "76b8dcbc",
   "metadata": {},
   "source": [
    "This section train and validate a BERT model over 20 epochs to enhance the model's accuracy. It employs a sophisticated learnign rate scheduler also an optimizer, AdamW. It also includes mechinisms for saving the model's best state based on accuracy."
   ]
  },
  {
   "cell_type": "code",
   "execution_count": 5,
   "id": "2c9eb7d3",
   "metadata": {},
   "outputs": [
    {
     "name": "stderr",
     "output_type": "stream",
     "text": [
      "  0%|          | 0/385 [00:00<?, ?it/s]C:\\Users\\user\\AppData\\Local\\Temp\\ipykernel_29568\\682512428.py:16: DeprecationWarning: an integer is required (got type float).  Implicit conversion to integers using __int__ is deprecated, and may be removed in a future version of Python.\n",
      "  y = {'labels': torch.LongTensor(y)}\n",
      "Train Epoch 0: 100%|██████████| 385/385 [01:17<00:00,  4.96it/s, loss=0.467]\n",
      "Valid Epoch 0: 100%|██████████| 61/61 [00:01<00:00, 41.40it/s, loss=0.524]\n"
     ]
    },
    {
     "name": "stdout",
     "output_type": "stream",
     "text": [
      "              precision    recall  f1-score   support\n",
      "\n",
      "           0       0.45      0.74      0.56       110\n",
      "           1       0.81      0.85      0.83       571\n",
      "           2       0.54      0.36      0.43       289\n",
      "\n",
      "    accuracy                           0.69       970\n",
      "   macro avg       0.60      0.65      0.61       970\n",
      "weighted avg       0.69      0.69      0.68       970\n",
      "\n",
      "Saving Model With Acc 0.68969\n",
      "Train Loss: 0.90742 Train Acc: 0.56713| Valid Loss: 0.69147 Valid Acc: 0.68969| Best Acc: 0.68969\n",
      "\n"
     ]
    },
    {
     "name": "stderr",
     "output_type": "stream",
     "text": [
      "  0%|          | 0/385 [00:00<?, ?it/s]C:\\Users\\user\\AppData\\Local\\Temp\\ipykernel_29568\\682512428.py:16: DeprecationWarning: an integer is required (got type float).  Implicit conversion to integers using __int__ is deprecated, and may be removed in a future version of Python.\n",
      "  y = {'labels': torch.LongTensor(y)}\n",
      "Train Epoch 1: 100%|██████████| 385/385 [01:19<00:00,  4.85it/s, loss=0.482]\n",
      "Valid Epoch 1: 100%|██████████| 61/61 [00:01<00:00, 42.34it/s, loss=0.425]\n"
     ]
    },
    {
     "name": "stdout",
     "output_type": "stream",
     "text": [
      "              precision    recall  f1-score   support\n",
      "\n",
      "           0       0.63      0.85      0.72       110\n",
      "           1       0.87      0.87      0.87       571\n",
      "           2       0.84      0.72      0.77       289\n",
      "\n",
      "    accuracy                           0.82       970\n",
      "   macro avg       0.78      0.81      0.79       970\n",
      "weighted avg       0.83      0.82      0.82       970\n",
      "\n",
      "Saving Model With Acc 0.82268\n",
      "Train Loss: 0.55829 Train Acc: 0.78722| Valid Loss: 0.44723 Valid Acc: 0.82268| Best Acc: 0.82268\n",
      "\n"
     ]
    },
    {
     "name": "stderr",
     "output_type": "stream",
     "text": [
      "  0%|          | 0/385 [00:00<?, ?it/s]C:\\Users\\user\\AppData\\Local\\Temp\\ipykernel_29568\\682512428.py:16: DeprecationWarning: an integer is required (got type float).  Implicit conversion to integers using __int__ is deprecated, and may be removed in a future version of Python.\n",
      "  y = {'labels': torch.LongTensor(y)}\n",
      "Train Epoch 2: 100%|██████████| 385/385 [01:17<00:00,  4.94it/s, loss=0.237]\n",
      "Valid Epoch 2: 100%|██████████| 61/61 [00:01<00:00, 42.11it/s, loss=0.716]\n"
     ]
    },
    {
     "name": "stdout",
     "output_type": "stream",
     "text": [
      "              precision    recall  f1-score   support\n",
      "\n",
      "           0       0.72      0.78      0.75       110\n",
      "           1       0.90      0.86      0.88       571\n",
      "           2       0.77      0.81      0.79       289\n",
      "\n",
      "    accuracy                           0.84       970\n",
      "   macro avg       0.80      0.82      0.81       970\n",
      "weighted avg       0.84      0.84      0.84       970\n",
      "\n",
      "Saving Model With Acc 0.83608\n",
      "Train Loss: 0.29092 Train Acc: 0.90068| Valid Loss: 0.45479 Valid Acc: 0.83608| Best Acc: 0.83608\n",
      "\n"
     ]
    },
    {
     "name": "stderr",
     "output_type": "stream",
     "text": [
      "  0%|          | 0/385 [00:00<?, ?it/s]C:\\Users\\user\\AppData\\Local\\Temp\\ipykernel_29568\\682512428.py:16: DeprecationWarning: an integer is required (got type float).  Implicit conversion to integers using __int__ is deprecated, and may be removed in a future version of Python.\n",
      "  y = {'labels': torch.LongTensor(y)}\n",
      "Train Epoch 3: 100%|██████████| 385/385 [01:17<00:00,  4.94it/s, loss=0.036]\n",
      "Valid Epoch 3: 100%|██████████| 61/61 [00:01<00:00, 43.01it/s, loss=0.215]\n"
     ]
    },
    {
     "name": "stdout",
     "output_type": "stream",
     "text": [
      "              precision    recall  f1-score   support\n",
      "\n",
      "           0       0.72      0.84      0.77       110\n",
      "           1       0.90      0.85      0.88       571\n",
      "           2       0.77      0.81      0.79       289\n",
      "\n",
      "    accuracy                           0.84       970\n",
      "   macro avg       0.80      0.83      0.81       970\n",
      "weighted avg       0.84      0.84      0.84       970\n",
      "\n",
      "Saving Model With Acc 0.83814\n",
      "Train Loss: 0.13403 Train Acc: 0.95741| Valid Loss: 0.51246 Valid Acc: 0.83814| Best Acc: 0.83814\n",
      "\n"
     ]
    },
    {
     "name": "stderr",
     "output_type": "stream",
     "text": [
      "  0%|          | 0/385 [00:00<?, ?it/s]C:\\Users\\user\\AppData\\Local\\Temp\\ipykernel_29568\\682512428.py:16: DeprecationWarning: an integer is required (got type float).  Implicit conversion to integers using __int__ is deprecated, and may be removed in a future version of Python.\n",
      "  y = {'labels': torch.LongTensor(y)}\n",
      "Train Epoch 4: 100%|██████████| 385/385 [01:18<00:00,  4.89it/s, loss=0.319]\n",
      "Valid Epoch 4: 100%|██████████| 61/61 [00:01<00:00, 42.33it/s, loss=0.193]\n"
     ]
    },
    {
     "name": "stdout",
     "output_type": "stream",
     "text": [
      "              precision    recall  f1-score   support\n",
      "\n",
      "           0       0.60      0.88      0.71       110\n",
      "           1       0.91      0.81      0.86       571\n",
      "           2       0.77      0.80      0.79       289\n",
      "\n",
      "    accuracy                           0.82       970\n",
      "   macro avg       0.76      0.83      0.79       970\n",
      "weighted avg       0.83      0.82      0.82       970\n",
      "\n",
      "Train Loss: 0.08848 Train Acc: 0.97399| Valid Loss: 0.58804 Valid Acc: 0.81546| Best Acc: 0.83814\n",
      "\n"
     ]
    },
    {
     "name": "stderr",
     "output_type": "stream",
     "text": [
      "  0%|          | 0/385 [00:00<?, ?it/s]C:\\Users\\user\\AppData\\Local\\Temp\\ipykernel_29568\\682512428.py:16: DeprecationWarning: an integer is required (got type float).  Implicit conversion to integers using __int__ is deprecated, and may be removed in a future version of Python.\n",
      "  y = {'labels': torch.LongTensor(y)}\n",
      "Train Epoch 5: 100%|██████████| 385/385 [01:17<00:00,  4.95it/s, loss=0.072]\n",
      "Valid Epoch 5: 100%|██████████| 61/61 [00:01<00:00, 42.31it/s, loss=1.437]\n"
     ]
    },
    {
     "name": "stdout",
     "output_type": "stream",
     "text": [
      "              precision    recall  f1-score   support\n",
      "\n",
      "           0       0.76      0.81      0.78       110\n",
      "           1       0.85      0.92      0.88       571\n",
      "           2       0.85      0.69      0.76       289\n",
      "\n",
      "    accuracy                           0.84       970\n",
      "   macro avg       0.82      0.81      0.81       970\n",
      "weighted avg       0.84      0.84      0.84       970\n",
      "\n",
      "Train Loss: 0.15650 Train Acc: 0.94863| Valid Loss: 0.62401 Valid Acc: 0.83814| Best Acc: 0.83814\n",
      "\n"
     ]
    },
    {
     "name": "stderr",
     "output_type": "stream",
     "text": [
      "  0%|          | 0/385 [00:00<?, ?it/s]C:\\Users\\user\\AppData\\Local\\Temp\\ipykernel_29568\\682512428.py:16: DeprecationWarning: an integer is required (got type float).  Implicit conversion to integers using __int__ is deprecated, and may be removed in a future version of Python.\n",
      "  y = {'labels': torch.LongTensor(y)}\n",
      "Train Epoch 6: 100%|██████████| 385/385 [01:18<00:00,  4.91it/s, loss=0.358]\n",
      "Valid Epoch 6: 100%|██████████| 61/61 [00:01<00:00, 42.59it/s, loss=0.274]\n"
     ]
    },
    {
     "name": "stdout",
     "output_type": "stream",
     "text": [
      "              precision    recall  f1-score   support\n",
      "\n",
      "           0       0.73      0.83      0.77       110\n",
      "           1       0.86      0.89      0.88       571\n",
      "           2       0.82      0.73      0.77       289\n",
      "\n",
      "    accuracy                           0.84       970\n",
      "   macro avg       0.80      0.82      0.81       970\n",
      "weighted avg       0.84      0.84      0.83       970\n",
      "\n",
      "Train Loss: 0.08081 Train Acc: 0.97659| Valid Loss: 0.65080 Valid Acc: 0.83505| Best Acc: 0.83814\n",
      "\n"
     ]
    },
    {
     "name": "stderr",
     "output_type": "stream",
     "text": [
      "  0%|          | 0/385 [00:00<?, ?it/s]C:\\Users\\user\\AppData\\Local\\Temp\\ipykernel_29568\\682512428.py:16: DeprecationWarning: an integer is required (got type float).  Implicit conversion to integers using __int__ is deprecated, and may be removed in a future version of Python.\n",
      "  y = {'labels': torch.LongTensor(y)}\n",
      "Train Epoch 7: 100%|██████████| 385/385 [01:19<00:00,  4.87it/s, loss=0.010]\n",
      "Valid Epoch 7: 100%|██████████| 61/61 [00:01<00:00, 43.22it/s, loss=1.653]\n"
     ]
    },
    {
     "name": "stdout",
     "output_type": "stream",
     "text": [
      "              precision    recall  f1-score   support\n",
      "\n",
      "           0       0.71      0.82      0.76       110\n",
      "           1       0.88      0.87      0.87       571\n",
      "           2       0.79      0.76      0.78       289\n",
      "\n",
      "    accuracy                           0.83       970\n",
      "   macro avg       0.79      0.82      0.80       970\n",
      "weighted avg       0.83      0.83      0.83       970\n",
      "\n",
      "Train Loss: 0.03712 Train Acc: 0.98943| Valid Loss: 0.72172 Valid Acc: 0.83196| Best Acc: 0.83814\n",
      "\n"
     ]
    },
    {
     "name": "stderr",
     "output_type": "stream",
     "text": [
      "  0%|          | 0/385 [00:00<?, ?it/s]C:\\Users\\user\\AppData\\Local\\Temp\\ipykernel_29568\\682512428.py:16: DeprecationWarning: an integer is required (got type float).  Implicit conversion to integers using __int__ is deprecated, and may be removed in a future version of Python.\n",
      "  y = {'labels': torch.LongTensor(y)}\n",
      "Train Epoch 8: 100%|██████████| 385/385 [01:17<00:00,  4.98it/s, loss=0.251]\n",
      "Valid Epoch 8: 100%|██████████| 61/61 [00:01<00:00, 43.38it/s, loss=0.449]\n"
     ]
    },
    {
     "name": "stdout",
     "output_type": "stream",
     "text": [
      "              precision    recall  f1-score   support\n",
      "\n",
      "           0       0.71      0.85      0.77       110\n",
      "           1       0.92      0.81      0.86       571\n",
      "           2       0.74      0.85      0.79       289\n",
      "\n",
      "    accuracy                           0.83       970\n",
      "   macro avg       0.79      0.84      0.81       970\n",
      "weighted avg       0.84      0.83      0.83       970\n",
      "\n",
      "Train Loss: 0.04456 Train Acc: 0.98781| Valid Loss: 0.74777 Valid Acc: 0.82887| Best Acc: 0.83814\n",
      "\n"
     ]
    },
    {
     "name": "stderr",
     "output_type": "stream",
     "text": [
      "  0%|          | 0/385 [00:00<?, ?it/s]C:\\Users\\user\\AppData\\Local\\Temp\\ipykernel_29568\\682512428.py:16: DeprecationWarning: an integer is required (got type float).  Implicit conversion to integers using __int__ is deprecated, and may be removed in a future version of Python.\n",
      "  y = {'labels': torch.LongTensor(y)}\n",
      "Train Epoch 9: 100%|██████████| 385/385 [01:18<00:00,  4.88it/s, loss=0.013]\n",
      "Valid Epoch 9: 100%|██████████| 61/61 [00:01<00:00, 42.96it/s, loss=0.916]\n"
     ]
    },
    {
     "name": "stdout",
     "output_type": "stream",
     "text": [
      "              precision    recall  f1-score   support\n",
      "\n",
      "           0       0.69      0.84      0.76       110\n",
      "           1       0.89      0.85      0.87       571\n",
      "           2       0.79      0.79      0.79       289\n",
      "\n",
      "    accuracy                           0.83       970\n",
      "   macro avg       0.79      0.83      0.81       970\n",
      "weighted avg       0.84      0.83      0.83       970\n",
      "\n",
      "Train Loss: 0.08992 Train Acc: 0.97285| Valid Loss: 0.64284 Valid Acc: 0.83196| Best Acc: 0.83814\n",
      "\n"
     ]
    },
    {
     "data": {
      "image/png": "[encoded data removed]",
      "text/plain": [
       "<Figure size 640x480 with 1 Axes>"
      ]
     },
     "metadata": {},
     "output_type": "display_data"
    }
   ],
   "source": [
    "best_acc = 0\n",
    "loss_record = {'train':[], 'valid':[]}\n",
    "epochs = 20\n",
    "\n",
    "num_training_steps = len(train_loader) * epochs\n",
    "num_warmup_steps = num_training_steps * 0.05\n",
    "optimizer = optim.AdamW(model.parameters(), lr=5e-5)\n",
    "# Cosine Annealing with Hard Restarts and Warmup\n",
    "scheduler = get_cosine_with_hard_restarts_schedule_with_warmup(optimizer, num_warmup_steps=num_warmup_steps, num_training_steps=num_training_steps, num_cycles=5)\n",
    "\n",
    "for epoch in range(10):   \n",
    "    train_loss, train_acc = train(epoch)\n",
    "    valid_loss, valid_acc = valid(epoch)\n",
    "    \n",
    "    loss_record['train'].append(train_loss)\n",
    "    loss_record['valid'].append(valid_loss)\n",
    "    \n",
    "    # save best weight\n",
    "    if valid_acc > best_acc:\n",
    "        best_acc = valid_acc\n",
    "        torch.save(model.state_dict(), 'model.ckpt')\n",
    "        print(f'Saving Model With Acc {best_acc:.5f}')\n",
    "    \n",
    "    print(f'Train Loss: {train_loss:.5f} Train Acc: {train_acc:.5f}', end='| ')\n",
    "    print(f'Valid Loss: {valid_loss:.5f} Valid Acc: {valid_acc:.5f}', end='| ')\n",
    "    print(f'Best Acc: {best_acc:.5f}', end='\\n\\n')\n",
    "\n",
    "show_training_loss(loss_record)\n"
   ]
  },
  {
   "cell_type": "code",
   "execution_count": null,
   "id": "0d66be6b",
   "metadata": {},
   "outputs": [],
   "source": []
  },
  {
   "cell_type": "code",
   "execution_count": null,
   "id": "e15366de-0432-49cb-83c0-9d1685e8ac9f",
   "metadata": {},
   "outputs": [],
   "source": []
  }
 ],
 "metadata": {
  "kernelspec": {
   "display_name": "Python 3 (ipykernel)",
   "language": "python",
   "name": "python3"
  },
  "language_info": {
   "codemirror_mode": {
    "name": "ipython",
    "version": 3
   },
   "file_extension": ".py",
   "mimetype": "text/x-python",
   "name": "python",
   "nbconvert_exporter": "python",
   "pygments_lexer": "ipython3",
   "version": "3.8.10"
  }
 },
 "nbformat": 4,
 "nbformat_minor": 5
}
