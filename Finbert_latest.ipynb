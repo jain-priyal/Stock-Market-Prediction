{
 "cells": [
  {
   "cell_type": "markdown",
   "id": "690b8209",
   "metadata": {},
   "source": [
    "## PART C: Modeling"
   ]
  },
  {
   "cell_type": "code",
   "execution_count": 1,
   "id": "6f640d13",
   "metadata": {},
   "outputs": [],
   "source": [
    "import torch\n",
    "import torch.optim as optim\n",
    "import numpy as np\n",
    "import pandas as pd\n",
    "import random\n",
    "from tqdm import tqdm\n",
    "import matplotlib.pyplot as plt\n",
    "from torch.utils.data import Dataset, DataLoader\n",
    "from sklearn.model_selection import train_test_split\n",
    "from transformers import BertTokenizer, BertForSequenceClassification\n",
    "from torch.utils.data import Dataset, DataLoader\n",
    "from datasets import load_dataset\n",
    "from sklearn.metrics import classification_report"
   ]
  },
  {
   "cell_type": "markdown",
   "id": "e0ea6682",
   "metadata": {},
   "source": [
    "## Setting Seed for Reproducibility\n",
    "This function set_seeds is used to ensure that all random operations can be replicated identically by fixing the seed for randomness. This is essential for experiments where reproducibility is crucial. The function sets seeds for different libraries (Python's random, NumPy, and PyTorch) and makes sure that CUDA operations are deterministic if CUDA is available."
   ]
  },
  {
   "cell_type": "code",
   "execution_count": 2,
   "id": "68dca382",
   "metadata": {},
   "outputs": [],
   "source": [
    "### Setting Seed for Reproducibility\n",
    "def set_seeds(seed):\n",
    "    random.seed(seed) # Seed the random number generator for Python's random module\n",
    "    np.random.seed(seed)  # Seed the random number generator for NumPy\n",
    "    torch.manual_seed(seed) # Seed the random number generator for PyTorch\n",
    "    if torch.cuda.is_available():\n",
    "        torch.cuda.manual_seed(seed)\n",
    "        torch.cuda.manual_seed_all(seed) \n",
    "    torch.backends.cudnn.benchmark = False\n",
    "    torch.backends.cudnn.deterministic = True\n",
    "    \n",
    "set_seeds(0) # Initialize seeds"
   ]
  },
  {
   "cell_type": "markdown",
   "id": "6934919e",
   "metadata": {},
   "source": [
    "## Create Dataset\n",
    "This section loads and processes the dataset. It reads data from a CSV file and augments it with data from a financial phrasebank dataset. Data is split into training and validation sets, and combined with additional data (new_x and new_y)."
   ]
  },
  {
   "cell_type": "code",
   "execution_count": 3,
   "id": "3c4eccb3",
   "metadata": {},
   "outputs": [
    {
     "name": "stdout",
     "output_type": "stream",
     "text": [
      "Trainset: 6152\n",
      "Validset: 970\n"
     ]
    }
   ],
   "source": [
    "new_df = pd.read_csv('final-data-updated.csv', encoding='utf-8-sig') # Read data from a CSV file\n",
    "new_df = new_df.dropna(subset=['Sentiment'])\n",
    "new_x = new_df['Summary'].tolist() # Convert the 'Summary' column into a list\n",
    "new_y = new_df['Sentiment'].tolist() # Convert the 'Sentiment' column into a list\n",
    "\n",
    "dataset = load_dataset('financial_phrasebank', 'sentences_50agree') # Load a dataset from the HuggingFace datasets library\n",
    "train_dataset = dataset['train'] # Access the training portion of the dataset\n",
    "\n",
    "# Split the dataset into training and validation sets\n",
    "x_train, x_valid, y_train, y_valid = train_test_split(train_dataset['sentence'], train_dataset['label'], test_size=0.2, random_state=42)\n",
    "x_train += new_x # Extend the training data with additional summaries\n",
    "y_train += new_y # Extend the training labels with additional sentiments\n",
    "\n",
    "print(\"Trainset:\", len(x_train))\n",
    "print(\"Validset:\", len(x_valid))"
   ]
  },
  {
   "cell_type": "markdown",
   "id": "d92a685b",
   "metadata": {},
   "source": [
    "## Dataset Class Definition\n",
    "This class News is a custom dataset class inheriting from PyTorch's Dataset. It is designed to handle pairs of data (x, y) where x is input data and y is labels. The methods __getitem__ and __len__ are overridden to provide mechanisms for indexing the dataset and getting its length, respectively."
   ]
  },
  {
   "cell_type": "code",
   "execution_count": 4,
   "id": "915a2bca",
   "metadata": {},
   "outputs": [],
   "source": [
    "### Dataset Class Definition\n",
    "class News(Dataset):\n",
    "    def __init__(self, x, y):\n",
    "        self.x = x # Store the input data\n",
    "        self.y = y # Store the labels\n",
    "\n",
    "          \n",
    "    def __getitem__(self, index):\n",
    "        return self.x[index], self.y[index] # Return a tuple of (input, label) at the specified index\n",
    "       \n",
    "    def __len__(self):\n",
    "        return len(self.x) # Return the total number of items in the dataset\n",
    "    \n",
    "trainset = News(x_train, y_train) # Create an instance of the dataset class for training data\n",
    "validset = News(x_valid, y_valid) # Create an instance of the dataset class for validation data"
   ]
  },
  {
   "cell_type": "markdown",
   "id": "277c9b91",
   "metadata": {},
   "source": [
    "## Data Loading and Tokenization\n",
    "This snippet sets up data loaders with a custom collate_fn that processes batches of text data by tokenizing them using a pre-trained BERT tokenizer (ProsusAI/finbert). The tokenizer converts text into a format suitable for BERT model input, including padding to a maximum length."
   ]
  },
  {
   "cell_type": "code",
   "execution_count": 5,
   "id": "4d09b977",
   "metadata": {},
   "outputs": [],
   "source": [
    "### Data Loading and Tokenization\n",
    "def collate_fn(batch):    \n",
    "    (x, y) = zip(*batch) # Unzip the batch into separate lists of inputs and labels\n",
    "    # Tokenize the text and convert into tensors suitable for model input\n",
    "    x = tokenizer(x, max_length=512, truncation=True, padding=\"longest\", return_tensors='pt')\n",
    "    y = {'labels': torch.LongTensor(y)} # Convert labels into a tensor\n",
    "    return {**x, **y}\n",
    "# Create DataLoader instances for training and validation datasets    \n",
    "tokenizer = BertTokenizer.from_pretrained(\"ProsusAI/finbert\") # Load a pre-trained tokenizer\n",
    "train_loader = DataLoader(trainset, batch_size = 16, shuffle = True, num_workers = 0, pin_memory = True, collate_fn=collate_fn)\n",
    "valid_loader = DataLoader(validset, batch_size = 16, shuffle = True, num_workers = 0, pin_memory = True, collate_fn=collate_fn)"
   ]
  },
  {
   "cell_type": "markdown",
   "id": "d17e653f",
   "metadata": {},
   "source": [
    "## Model Setup and Training Functions\n",
    "In this section, the model and its environment are set up. A BERT model for sequence classification is loaded with specific configurations and moved to a GPU if available. The training and validation functions are defined here, including mechanisms for optimizing the model, computing loss, and updating model parameters. The training process includes feedback on progress and accuracy, and incorporates early stopping for efficient training."
   ]
  },
  {
   "cell_type": "code",
   "execution_count": 6,
   "id": "38d80c72",
   "metadata": {},
   "outputs": [],
   "source": [
    "### Model Setup and Training Functions\n",
    "device = torch.device('cuda' if torch.cuda.is_available() else 'cpu') # Setup device for model\n",
    "# Load a pre-trained BERT model (Finbert) for sequence classification with three output labels\n",
    "model = BertForSequenceClassification.from_pretrained(\"ProsusAI/finbert\", num_labels = 3, ignore_mismatched_sizes=True)\n",
    "model.to(device) # Move the model to the specified device\n",
    "optimizer = optim.AdamW(model.parameters(), lr=5e-5) # Initialize an optimizer for the model parameters"
   ]
  },
  {
   "cell_type": "markdown",
   "id": "a671abef",
   "metadata": {},
   "source": [
    "#### Train\n",
    "This code snippet performs the fine-tuning of a model using a training loop. The fine-tuning process involves training a pre-trained model on a specific dataset provided by train_loader. The model processes input data from the iterator through forward propagation to compute outputs, including loss and predictions. Backpropagation is then performed, and model weights are updated accordingly. This process is repeated for each epoch over the entire dataset. Fine-tuning aims to adapt the model more closely to the specific characteristics of the dataset or application scenario.\n",
    "\n",
    "#### Valid\n",
    "This code snippet is designed to evaluate the performance of a model. During validation, the model is set to evaluation mode (model.eval()), which disables mechanisms like Dropout that are specific to the training phase. The use of torch.no_grad() ensures that no gradients are calculated, saving computational resources. The code iterates through the validation dataset provided by valid_loader, processing each batch of data and calculating loss and accuracy. It then returns the average loss and accuracy across the entire validation set. This process is used to assess the model's generalization ability on new data without making any updates to the model parameters."
   ]
  },
  {
   "cell_type": "code",
   "execution_count": 7,
   "id": "aac99341",
   "metadata": {},
   "outputs": [],
   "source": [
    "### Training Function\n",
    "def train(epoch):\n",
    "    train_loss, train_acc = 0, 0 # Initialize loss and accuracy trackers for the epoch\n",
    "    train_pbar = tqdm(train_loader, position=0, leave=True) # Setup a progress bar for the training loop\n",
    "    \n",
    "    model.train() # Set the model to training mode \n",
    "    for input_datas in train_pbar: # Loop over batches of data in the training loader\n",
    "        for key in input_datas.keys():\n",
    "            input_datas[key] = input_datas[key].to(device)\n",
    "        optimizer.zero_grad()  # Reset the gradients of the model parameters to zero\n",
    "        outputs = model(**input_datas) # Pass the batch through the model (forward pass)\n",
    "        \n",
    "        logits = outputs.logits # The output values before activation function\n",
    "        loss = outputs.loss # Calculate the loss for the batch\n",
    "\n",
    "        loss.backward() # Perform backpropagation to calculate gradients\n",
    "        optimizer.step() # Update the model's parameters based on gradients\n",
    "        \n",
    "        train_pbar.set_description(f'Train Epoch {epoch}')  # Update the progress bar with epoch number\n",
    "        train_pbar.set_postfix({'loss':f'{loss:.3f}'}) # Update the progress bar with the current loss\n",
    "        \n",
    "        pred = torch.argmax(logits, dim = 1) # Get the predicted classes from logits\n",
    "        train_acc += sum(pred == input_datas['labels']) # Calculate accuracy for the batch\n",
    "        train_loss += loss.item()  # Sum up the loss of the batch\n",
    "    return train_loss/len(train_loader), train_acc/len(trainset) # Return average loss and accuracy for the epoch\n",
    "\n",
    "### Validation Function (almost same as Training)\n",
    "def valid(epoch):\n",
    "    valid_loss, valid_acc = 0, 0\n",
    "    valid_pbar = tqdm(valid_loader, position=0, leave=True)\n",
    "    y_preds, y_trues = [], []\n",
    "    model.eval()\n",
    "    with torch.no_grad(): \n",
    "        for input_datas in valid_pbar:\n",
    "            for key in input_datas.keys():\n",
    "                input_datas[key] = input_datas[key].to(device)\n",
    "            \n",
    "            outputs = model(**input_datas)\n",
    "            logits = outputs.logits\n",
    "            loss = outputs.loss\n",
    "            \n",
    "            valid_pbar.set_description(f'Valid Epoch {epoch}')\n",
    "            valid_pbar.set_postfix({'loss':f'{loss:.3f}'})\n",
    "\n",
    "            pred = torch.argmax(logits, dim = 1)\n",
    "            valid_acc += sum(pred == input_datas['labels'])\n",
    "            valid_loss += loss.item()\n",
    "\n",
    "            y_trues.extend(input_datas['labels'].cpu())\n",
    "            y_preds.extend(pred.cpu())\n",
    "\n",
    "    print(classification_report(y_trues, y_preds))\n",
    "\n",
    "    return valid_loss/len(valid_loader), valid_acc/len(validset) # Return average loss and accuracy for the epoch\n",
    "\n",
    "### Function to Plot Training and Validation Loss        \n",
    "def show_training_loss(loss_record):\n",
    "    train_loss, valid_loss = [i for i in loss_record.values()] # Extract training and validation losses\n",
    "    \n",
    "    plt.plot(train_loss)\n",
    "    plt.plot(valid_loss)\n",
    "    plt.title('Result')\n",
    "    plt.ylabel('Loss')\n",
    "    plt.xlabel('Epoch')\n",
    "    plt.legend(['train', 'valid'], loc='upper left')\n",
    "    plt.show()"
   ]
  },
  {
   "cell_type": "markdown",
   "id": "f6f7c1d8",
   "metadata": {},
   "source": [
    "This code segment performs training and validation of a model, incorporating an early stopping mechanism to prevent overfitting. During each epoch, it executes training (train(epoch)) and validation (valid(epoch)) processes, and logs the resulting losses and accuracies. If the validation accuracy for a given epoch exceeds the best accuracy recorded in previous epochs, the model updates its best accuracy and saves its parameters to a designated path. If there is no improvement for a consecutive number of epochs, determined by the early_stopping variable, the early stopping mechanism is triggered to prematurely end the training. Finally, if loss display is enabled (show_loss), it visualizes the loss records from the training process."
   ]
  },
  {
   "cell_type": "code",
   "execution_count": 8,
   "id": "9e4f79d6",
   "metadata": {},
   "outputs": [
    {
     "name": "stderr",
     "output_type": "stream",
     "text": [
      "  0%|          | 0/385 [00:00<?, ?it/s]C:\\Users\\user\\AppData\\Local\\Temp\\ipykernel_4700\\2777210971.py:6: DeprecationWarning: an integer is required (got type float).  Implicit conversion to integers using __int__ is deprecated, and may be removed in a future version of Python.\n",
      "  y = {'labels': torch.LongTensor(y)} # Convert labels into a tensor\n",
      "Train Epoch 0: 100%|██████████| 385/385 [01:16<00:00,  5.05it/s, loss=0.394]\n",
      "Valid Epoch 0: 100%|██████████| 61/61 [00:01<00:00, 42.35it/s, loss=0.240]\n"
     ]
    },
    {
     "name": "stdout",
     "output_type": "stream",
     "text": [
      "              precision    recall  f1-score   support\n",
      "\n",
      "           0       0.78      0.88      0.83       110\n",
      "           1       0.85      0.93      0.89       571\n",
      "           2       0.89      0.67      0.76       289\n",
      "\n",
      "    accuracy                           0.85       970\n",
      "   macro avg       0.84      0.83      0.83       970\n",
      "weighted avg       0.85      0.85      0.84       970\n",
      "\n",
      "Saving Model With Acc 0.84845\n",
      "Train Loss: 0.55718 Train Acc: 0.77487| Valid Loss: 0.34710 Valid Acc: 0.84845| Best Acc: 0.84845\n",
      "\n"
     ]
    },
    {
     "name": "stderr",
     "output_type": "stream",
     "text": [
      "  0%|          | 0/385 [00:00<?, ?it/s]C:\\Users\\user\\AppData\\Local\\Temp\\ipykernel_4700\\2777210971.py:6: DeprecationWarning: an integer is required (got type float).  Implicit conversion to integers using __int__ is deprecated, and may be removed in a future version of Python.\n",
      "  y = {'labels': torch.LongTensor(y)} # Convert labels into a tensor\n",
      "Train Epoch 1: 100%|██████████| 385/385 [01:17<00:00,  5.00it/s, loss=0.450]\n",
      "Valid Epoch 1: 100%|██████████| 61/61 [00:01<00:00, 43.40it/s, loss=0.275]\n"
     ]
    },
    {
     "name": "stdout",
     "output_type": "stream",
     "text": [
      "              precision    recall  f1-score   support\n",
      "\n",
      "           0       0.81      0.90      0.85       110\n",
      "           1       0.90      0.91      0.90       571\n",
      "           2       0.84      0.80      0.82       289\n",
      "\n",
      "    accuracy                           0.87       970\n",
      "   macro avg       0.85      0.87      0.86       970\n",
      "weighted avg       0.87      0.87      0.87       970\n",
      "\n",
      "Saving Model With Acc 0.87320\n",
      "Train Loss: 0.26328 Train Acc: 0.89987| Valid Loss: 0.36816 Valid Acc: 0.87320| Best Acc: 0.87320\n",
      "\n"
     ]
    },
    {
     "name": "stderr",
     "output_type": "stream",
     "text": [
      "  0%|          | 0/385 [00:00<?, ?it/s]C:\\Users\\user\\AppData\\Local\\Temp\\ipykernel_4700\\2777210971.py:6: DeprecationWarning: an integer is required (got type float).  Implicit conversion to integers using __int__ is deprecated, and may be removed in a future version of Python.\n",
      "  y = {'labels': torch.LongTensor(y)} # Convert labels into a tensor\n",
      "Train Epoch 2: 100%|██████████| 385/385 [01:16<00:00,  5.05it/s, loss=0.020]\n",
      "Valid Epoch 2: 100%|██████████| 61/61 [00:01<00:00, 42.80it/s, loss=0.198]\n"
     ]
    },
    {
     "name": "stdout",
     "output_type": "stream",
     "text": [
      "              precision    recall  f1-score   support\n",
      "\n",
      "           0       0.81      0.86      0.83       110\n",
      "           1       0.89      0.89      0.89       571\n",
      "           2       0.82      0.79      0.81       289\n",
      "\n",
      "    accuracy                           0.86       970\n",
      "   macro avg       0.84      0.85      0.84       970\n",
      "weighted avg       0.86      0.86      0.86       970\n",
      "\n",
      "Train Loss: 0.14152 Train Acc: 0.95172| Valid Loss: 0.43429 Valid Acc: 0.86082| Best Acc: 0.87320\n",
      "\n"
     ]
    },
    {
     "name": "stderr",
     "output_type": "stream",
     "text": [
      "  0%|          | 0/385 [00:00<?, ?it/s]C:\\Users\\user\\AppData\\Local\\Temp\\ipykernel_4700\\2777210971.py:6: DeprecationWarning: an integer is required (got type float).  Implicit conversion to integers using __int__ is deprecated, and may be removed in a future version of Python.\n",
      "  y = {'labels': torch.LongTensor(y)} # Convert labels into a tensor\n",
      "Train Epoch 3: 100%|██████████| 385/385 [01:17<00:00,  4.94it/s, loss=0.316]\n",
      "Valid Epoch 3: 100%|██████████| 61/61 [00:01<00:00, 42.60it/s, loss=0.351]\n"
     ]
    },
    {
     "name": "stdout",
     "output_type": "stream",
     "text": [
      "              precision    recall  f1-score   support\n",
      "\n",
      "           0       0.87      0.78      0.82       110\n",
      "           1       0.84      0.95      0.89       571\n",
      "           2       0.89      0.69      0.78       289\n",
      "\n",
      "    accuracy                           0.85       970\n",
      "   macro avg       0.87      0.81      0.83       970\n",
      "weighted avg       0.86      0.85      0.85       970\n",
      "\n",
      "Train Loss: 0.09270 Train Acc: 0.96765| Valid Loss: 0.47043 Valid Acc: 0.85361| Best Acc: 0.87320\n",
      "\n"
     ]
    },
    {
     "name": "stderr",
     "output_type": "stream",
     "text": [
      "  0%|          | 0/385 [00:00<?, ?it/s]C:\\Users\\user\\AppData\\Local\\Temp\\ipykernel_4700\\2777210971.py:6: DeprecationWarning: an integer is required (got type float).  Implicit conversion to integers using __int__ is deprecated, and may be removed in a future version of Python.\n",
      "  y = {'labels': torch.LongTensor(y)} # Convert labels into a tensor\n",
      "Train Epoch 4: 100%|██████████| 385/385 [01:18<00:00,  4.91it/s, loss=0.301]\n",
      "Valid Epoch 4: 100%|██████████| 61/61 [00:01<00:00, 42.34it/s, loss=0.130]\n"
     ]
    },
    {
     "name": "stdout",
     "output_type": "stream",
     "text": [
      "              precision    recall  f1-score   support\n",
      "\n",
      "           0       0.90      0.75      0.82       110\n",
      "           1       0.89      0.89      0.89       571\n",
      "           2       0.78      0.83      0.80       289\n",
      "\n",
      "    accuracy                           0.85       970\n",
      "   macro avg       0.86      0.82      0.84       970\n",
      "weighted avg       0.86      0.85      0.85       970\n",
      "\n",
      "Train Loss: 0.06541 Train Acc: 0.97919| Valid Loss: 0.59757 Valid Acc: 0.85464| Best Acc: 0.87320\n",
      "\n"
     ]
    },
    {
     "name": "stderr",
     "output_type": "stream",
     "text": [
      "  0%|          | 0/385 [00:00<?, ?it/s]C:\\Users\\user\\AppData\\Local\\Temp\\ipykernel_4700\\2777210971.py:6: DeprecationWarning: an integer is required (got type float).  Implicit conversion to integers using __int__ is deprecated, and may be removed in a future version of Python.\n",
      "  y = {'labels': torch.LongTensor(y)} # Convert labels into a tensor\n",
      "Train Epoch 5: 100%|██████████| 385/385 [01:17<00:00,  4.95it/s, loss=0.015]\n",
      "Valid Epoch 5: 100%|██████████| 61/61 [00:01<00:00, 43.00it/s, loss=0.929]\n"
     ]
    },
    {
     "name": "stdout",
     "output_type": "stream",
     "text": [
      "              precision    recall  f1-score   support\n",
      "\n",
      "           0       0.87      0.72      0.79       110\n",
      "           1       0.83      0.96      0.89       571\n",
      "           2       0.89      0.66      0.76       289\n",
      "\n",
      "    accuracy                           0.84       970\n",
      "   macro avg       0.86      0.78      0.81       970\n",
      "weighted avg       0.85      0.84      0.84       970\n",
      "\n",
      "------------------------------------\n",
      "|Model can't improve, stop training|\n",
      "------------------------------------\n"
     ]
    },
    {
     "data": {
      "image/png": "[encoded data removed]",
      "text/plain": [
       "<Figure size 640x480 with 1 Axes>"
      ]
     },
     "metadata": {},
     "output_type": "display_data"
    }
   ],
   "source": [
    "### Main Training Loop\n",
    "epochs = 10  # Total number of epochs to train                            \n",
    "early_stopping = 4  # Number of epochs to stop training if no improvement                      \n",
    "stop_cnt = 0  # Counter for early stopping                        \n",
    "model_path = 'model.ckpt'  # Path to save the best model               \n",
    "show_loss = True  # Flag to show loss after training                       \n",
    "best_acc = 0  # Tracker for the best accuracy                            \n",
    "loss_record = {'train':[], 'valid':[]}   # Record of training and validation loss\n",
    "\n",
    "for epoch in range(epochs):   # Loop over each epoch\n",
    "    train_loss, train_acc = train(epoch) # Train the model for one epoch\n",
    "    valid_loss, valid_acc = valid(epoch) # Validate the model for one epoch\n",
    "    \n",
    "    loss_record['train'].append(train_loss) # Record training loss\n",
    "    loss_record['valid'].append(valid_loss) # Record validation loss\n",
    "    \n",
    "    # Check for best model\n",
    "    if valid_acc > best_acc:\n",
    "        best_acc = valid_acc # Update the best accuracy\n",
    "        torch.save(model.state_dict(), model_path) # Save the model\n",
    "        print(f'Saving Model With Acc {best_acc:.5f}')\n",
    "        stop_cnt = 0 # Reset the early stopping counter\n",
    "    else:\n",
    "        stop_cnt+=1 # Increment the early stopping counter\n",
    "    \n",
    "    # Early stopping\n",
    "    if stop_cnt == early_stopping:\n",
    "        output = \"Model can't improve, stop training\"\n",
    "        print('-' * (len(output)+2))\n",
    "        print(f'|{output}|')\n",
    "        print('-' * (len(output)+2))\n",
    "        break\n",
    "\n",
    "    # Print training and validation statistics\n",
    "    print(f'Train Loss: {train_loss:.5f} Train Acc: {train_acc:.5f}', end='| ')\n",
    "    print(f'Valid Loss: {valid_loss:.5f} Valid Acc: {valid_acc:.5f}', end='| ')\n",
    "    print(f'Best Acc: {best_acc:.5f}', end='\\n\\n')\n",
    "\n",
    "if show_loss:\n",
    "    show_training_loss(loss_record) # Show loss plot if flag is true"
   ]
  },
  {
   "cell_type": "markdown",
   "id": "e1c9f6dd",
   "metadata": {},
   "source": [
    "The FinBERT model training output indicates a high training accuracy of 97.9% with a low training loss, while the validation accuracy peaks at 87.32%. However, the validation loss trends higher after the first epoch, suggesting overfitting. The model demonstrates strong performance in classifying one of the classes with a recall of 96%, yet this class also exhibits a relatively high false positive rate. An early stopping mechanism has terminated further training to prevent overfitting. The imbalanced class distribution might be affecting the model's performance and should be considered in future improvements"
   ]
  }
 ],
 "metadata": {
  "kernelspec": {
   "display_name": "Python 3",
   "language": "python",
   "name": "python3"
  },
  "language_info": {
   "codemirror_mode": {
    "name": "ipython",
    "version": 3
   },
   "file_extension": ".py",
   "mimetype": "text/x-python",
   "name": "python",
   "nbconvert_exporter": "python",
   "pygments_lexer": "ipython3",
   "version": "3.8.10"
  }
 },
 "nbformat": 4,
 "nbformat_minor": 5
}
