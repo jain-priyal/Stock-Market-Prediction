{
 "cells": [
  {
   "cell_type": "markdown",
   "metadata": {},
   "source": [
    "# PART C: Modelling"
   ]
  },
  {
   "cell_type": "markdown",
   "metadata": {},
   "source": [
    "This code implements fine-tuning of the XLNet model using the Hugging Face Transformers library on the Financial PhraseBank dataset."
   ]
  },
  {
   "cell_type": "code",
   "execution_count": 2,
   "metadata": {},
   "outputs": [
    {
     "name": "stderr",
     "output_type": "stream",
     "text": [
      "/Users/priyal/.pyenv/versions/3.9.1/lib/python3.9/site-packages/tqdm/auto.py:21: TqdmWarning: IProgress not found. Please update jupyter and ipywidgets. See https://ipywidgets.readthedocs.io/en/stable/user_install.html\n",
      "  from .autonotebook import tqdm as notebook_tqdm\n"
     ]
    }
   ],
   "source": [
    "#imports\n",
    "import torch\n",
    "import torch.optim as optim\n",
    "import numpy as np\n",
    "import pandas as pd\n",
    "import random\n",
    "from tqdm import tqdm\n",
    "import matplotlib.pyplot as plt\n",
    "from torch.utils.data import Dataset, DataLoader\n",
    "from sklearn.model_selection import train_test_split\n",
    "from transformers import XLNetTokenizer, XLNetForSequenceClassification\n",
    "from torch.utils.data import Dataset, DataLoader\n",
    "from datasets import load_dataset"
   ]
  },
  {
   "cell_type": "markdown",
   "metadata": {},
   "source": [
    "This function `set_seeds(seed)` is used to set random seeds for reproducibility in PyTorch and NumPy. It takes a single argument `seed`, which is used to initialize random number generators."
   ]
  },
  {
   "cell_type": "code",
   "execution_count": 3,
   "metadata": {},
   "outputs": [],
   "source": [
    "def set_seeds(seed):\n",
    "    random.seed(seed)\n",
    "    np.random.seed(seed)\n",
    "    torch.manual_seed(seed)\n",
    "    if torch.cuda.is_available():\n",
    "        torch.cuda.manual_seed(seed)\n",
    "        torch.cuda.manual_seed_all(seed)\n",
    "    torch.backends.cudnn.benchmark = False\n",
    "    torch.backends.cudnn.deterministic = True\n",
    "\n",
    "\n",
    "set_seeds(0)"
   ]
  },
  {
   "cell_type": "markdown",
   "metadata": {},
   "source": [
    "This code segment loads the \"financial_phrasebank\" dataset using the `load_dataset` function from the Hugging Face `datasets` library. Next, it splits the dataset into training and validation sets using the `train_test_split` function from scikit-learn. The features (sentences) are stored in `x_train` and `x_valid`, while the corresponding labels are stored in `y_train` and `y_valid`. The split is stratified, with 20% of the data allocated to the validation set and the random seed set to 42 for reproducibility."
   ]
  },
  {
   "cell_type": "code",
   "execution_count": 4,
   "metadata": {},
   "outputs": [
    {
     "name": "stdout",
     "output_type": "stream",
     "text": [
      "Trainset: 3876\n",
      "Validset: 970\n"
     ]
    }
   ],
   "source": [
    "dataset = load_dataset(\"financial_phrasebank\", \"sentences_50agree\")\n",
    "train_dataset = dataset[\"train\"]\n",
    "x_train, x_valid, y_train, y_valid = train_test_split(\n",
    "    train_dataset[\"sentence\"], train_dataset[\"label\"], test_size=0.2, random_state=42\n",
    ")\n",
    "\n",
    "print(\"Trainset:\", len(x_train))\n",
    "print(\"Validset:\", len(x_valid))"
   ]
  },
  {
   "cell_type": "markdown",
   "metadata": {},
   "source": [
    "This code defines a custom dataset class named `News`, which is a subclass of `torch.utils.data.Dataset`. The purpose of this class is to encapsulate the training and validation data. In the `__init__` method, it initialises the dataset with two parameters `x` and `y`, which represent the features (sentences) and labels, respectively. The `__getitem__` method retrieves an item from the dataset at the specified `index`. It returns a tuple containing the feature and label corresponding to the given index. The `__len__` method returns the total number of samples in the dataset. After defining the `News` class, instances of this class are created for the training and validation datasets (`trainset` and `validset`, respectively). These instances are initialized with the training and validation data, respectively."
   ]
  },
  {
   "cell_type": "code",
   "execution_count": 5,
   "metadata": {},
   "outputs": [],
   "source": [
    "class News(Dataset):\n",
    "    def __init__(self, x, y):\n",
    "        self.x = x\n",
    "        self.y = y\n",
    "\n",
    "    def __getitem__(self, index):\n",
    "        return self.x[index], self.y[index]\n",
    "\n",
    "    def __len__(self):\n",
    "        return len(self.x)\n",
    "\n",
    "\n",
    "trainset = News(x_train, y_train)\n",
    "validset = News(x_valid, y_valid)"
   ]
  },
  {
   "cell_type": "markdown",
   "metadata": {},
   "source": [
    "This code defines a collate function `collate_fn` that processes a batch of data samples. It is intended to be used as the `collate_fn` parameter when creating data loaders in PyTorch."
   ]
  },
  {
   "cell_type": "code",
   "execution_count": 6,
   "metadata": {},
   "outputs": [],
   "source": [
    "def collate_fn(batch):\n",
    "    (x, y) = zip(*batch)\n",
    "    x = tokenizer(\n",
    "        x, max_length=512, truncation=True, padding=\"longest\", return_tensors=\"pt\"\n",
    "    )\n",
    "    y = {\"labels\": torch.LongTensor(y)}\n",
    "    return {**x, **y}"
   ]
  },
  {
   "cell_type": "markdown",
   "metadata": {},
   "source": [
    "This code segment initializes the XLNet tokenizer, creates data loaders for both the training and validation datasets, sets up the device for computation, initializes the XLNet model for sequence classification, and sets up the optimizer for training."
   ]
  },
  {
   "cell_type": "code",
   "execution_count": 7,
   "metadata": {},
   "outputs": [
    {
     "name": "stderr",
     "output_type": "stream",
     "text": [
      "/Users/priyal/.pyenv/versions/3.9.1/lib/python3.9/site-packages/torch/_utils.py:831: UserWarning: TypedStorage is deprecated. It will be removed in the future and UntypedStorage will be the only storage class. This should only matter to you if you are using storages directly.  To access UntypedStorage directly, use tensor.untyped_storage() instead of tensor.storage()\n",
      "  return self.fget.__get__(instance, owner)()\n",
      "Some weights of XLNetForSequenceClassification were not initialized from the model checkpoint at xlnet-base-cased and are newly initialized: ['logits_proj.bias', 'logits_proj.weight', 'sequence_summary.summary.bias', 'sequence_summary.summary.weight']\n",
      "You should probably TRAIN this model on a down-stream task to be able to use it for predictions and inference.\n"
     ]
    }
   ],
   "source": [
    "tokenizer = XLNetTokenizer.from_pretrained(\"xlnet-base-cased\")\n",
    "train_loader = DataLoader(\n",
    "    trainset,\n",
    "    batch_size=16,\n",
    "    shuffle=True,\n",
    "    num_workers=0,\n",
    "    pin_memory=True,\n",
    "    collate_fn=collate_fn,\n",
    ")\n",
    "valid_loader = DataLoader(\n",
    "    validset,\n",
    "    batch_size=16,\n",
    "    shuffle=True,\n",
    "    num_workers=0,\n",
    "    pin_memory=True,\n",
    "    collate_fn=collate_fn,\n",
    ")\n",
    "\n",
    "device = torch.device(\"cuda\" if torch.cuda.is_available() else \"cpu\")\n",
    "model = XLNetForSequenceClassification.from_pretrained(\"xlnet-base-cased\", num_labels=3)\n",
    "model.to(device)\n",
    "\n",
    "optimizer = optim.AdamW(model.parameters(), lr=5e-5)"
   ]
  },
  {
   "cell_type": "markdown",
   "metadata": {},
   "source": [
    "This function `train(epoch)` is responsible for training the XLNet model for one epoch using the training dataset. \n",
    "- `train_loss` and `train_acc` are initialized to keep track of the total loss and accuracy during training.\n",
    "- `train_pbar = tqdm(train_loader, position=0, leave=True)`: Initialises a progress bar (`tqdm`) to visualize the training progress. It iterates over the batches in the training data loader (`train_loader`).\n",
    "- `model.train()`: Sets the model to training mode, which enables gradient computation and parameter updates.\n",
    "- Calculates the average training loss and accuracy for the epoch and returns them.\n",
    "\n",
    "The function trains the model for one epoch and returns the average loss and accuracy over the entire training dataset."
   ]
  },
  {
   "cell_type": "code",
   "execution_count": 8,
   "metadata": {},
   "outputs": [],
   "source": [
    "def train(epoch):\n",
    "    train_loss, train_acc = 0, 0\n",
    "    train_pbar = tqdm(train_loader, position=0, leave=True)\n",
    "\n",
    "    model.train()\n",
    "    for input_datas in train_pbar:\n",
    "        for key in input_datas.keys():\n",
    "            input_datas[key] = input_datas[key].to(device)\n",
    "        optimizer.zero_grad()\n",
    "        outputs = model(**input_datas)\n",
    "\n",
    "        logits = outputs.logits\n",
    "        loss = outputs.loss\n",
    "\n",
    "        loss.backward()\n",
    "        optimizer.step()\n",
    "\n",
    "        train_pbar.set_description(f\"Train Epoch {epoch}\")\n",
    "        train_pbar.set_postfix({\"loss\": f\"{loss:.3f}\"})\n",
    "\n",
    "        pred = torch.argmax(logits, dim=1)\n",
    "        train_acc += sum(pred == input_datas[\"labels\"])\n",
    "        train_loss += loss.item()\n",
    "    return train_loss / len(train_loader), train_acc / len(trainset)"
   ]
  },
  {
   "cell_type": "markdown",
   "metadata": {},
   "source": [
    "This function `valid(epoch)` is responsible for evaluating the XLNet model on the validation dataset for one epoch. \n",
    "- `valid_loss` and `valid_acc` are initialized to keep track of the total loss and accuracy during validation.\n",
    "- `valid_pbar = tqdm(valid_loader, position=0, leave=True)`: Initializes a progress bar (`tqdm`) to visualize the validation progress. It iterates over the batches in the validation data loader (`valid_loader`).\n",
    "- `model.eval()`: Sets the model to evaluation mode, which disables gradient computation and parameter updates.\n",
    "- Calculates the average validation loss and accuracy for the epoch and returns them.\n",
    "\n",
    "The function evaluates the model on the validation dataset for one epoch and returns the average loss and accuracy over the entire validation dataset.\n"
   ]
  },
  {
   "cell_type": "code",
   "execution_count": 9,
   "metadata": {},
   "outputs": [],
   "source": [
    "def valid(epoch):\n",
    "    valid_loss, valid_acc = 0, 0\n",
    "    valid_pbar = tqdm(valid_loader, position=0, leave=True)\n",
    "\n",
    "    model.eval()\n",
    "    with torch.no_grad():\n",
    "        for input_datas in valid_pbar:\n",
    "            for key in input_datas.keys():\n",
    "                input_datas[key] = input_datas[key].to(device)\n",
    "\n",
    "            outputs = model(**input_datas)\n",
    "            logits = outputs.logits\n",
    "            loss = outputs.loss\n",
    "\n",
    "            valid_pbar.set_description(f\"Valid Epoch {epoch}\")\n",
    "            valid_pbar.set_postfix({\"loss\": f\"{loss:.3f}\"})\n",
    "\n",
    "            pred = torch.argmax(logits, dim=1)\n",
    "            valid_acc += sum(pred == input_datas[\"labels\"])\n",
    "            valid_loss += loss.item()\n",
    "\n",
    "    return valid_loss / len(valid_loader), valid_acc / len(validset)"
   ]
  },
  {
   "cell_type": "markdown",
   "metadata": {},
   "source": [
    "The training loop runs for 10 epochs. For each epoch:\n",
    "- It trains the model using the `train(epoch)` function and evaluates it on the validation set using the `valid(epoch)` function.\n",
    "- The training and validation losses are recorded in the `loss_record` dictionary.\n",
    "- If the validation accuracy improves over the previous best accuracy, the model's weights are saved.\n",
    "- The training and validation loss, as well as the best accuracy achieved so far, are printed.\n",
    "- Finally, the `show_training_loss(loss_record)` function is called to display the loss curves."
   ]
  },
  {
   "cell_type": "code",
   "execution_count": 10,
   "metadata": {},
   "outputs": [
    {
     "name": "stderr",
     "output_type": "stream",
     "text": [
      "Train Epoch 0: 100%|██████████| 243/243 [06:55<00:00,  1.71s/it, loss=1.010]\n",
      "Valid Epoch 0: 100%|██████████| 61/61 [00:27<00:00,  2.19it/s, loss=0.057]\n"
     ]
    },
    {
     "name": "stdout",
     "output_type": "stream",
     "text": [
      "Saving Model With Acc 0.84845\n",
      "Train Loss: 0.64205 Train Acc: 0.72833| Valid Loss: 0.37448 Valid Acc: 0.84845| Best Acc: 0.84845\n",
      "\n"
     ]
    },
    {
     "name": "stderr",
     "output_type": "stream",
     "text": [
      "Train Epoch 1: 100%|██████████| 243/243 [06:55<00:00,  1.71s/it, loss=0.525]\n",
      "Valid Epoch 1: 100%|██████████| 61/61 [00:28<00:00,  2.16it/s, loss=0.115]\n"
     ]
    },
    {
     "name": "stdout",
     "output_type": "stream",
     "text": [
      "Saving Model With Acc 0.85155\n",
      "Train Loss: 0.33547 Train Acc: 0.87410| Valid Loss: 0.36609 Valid Acc: 0.85155| Best Acc: 0.85155\n",
      "\n"
     ]
    },
    {
     "name": "stderr",
     "output_type": "stream",
     "text": [
      "Train Epoch 2: 100%|██████████| 243/243 [06:59<00:00,  1.73s/it, loss=0.030]\n",
      "Valid Epoch 2: 100%|██████████| 61/61 [00:28<00:00,  2.15it/s, loss=0.015]\n"
     ]
    },
    {
     "name": "stdout",
     "output_type": "stream",
     "text": [
      "Train Loss: 0.20379 Train Acc: 0.92647| Valid Loss: 0.47820 Valid Acc: 0.82680| Best Acc: 0.85155\n",
      "\n"
     ]
    },
    {
     "name": "stderr",
     "output_type": "stream",
     "text": [
      "Train Epoch 3: 100%|██████████| 243/243 [06:57<00:00,  1.72s/it, loss=0.133]\n",
      "Valid Epoch 3: 100%|██████████| 61/61 [00:29<00:00,  2.09it/s, loss=0.148]\n"
     ]
    },
    {
     "name": "stdout",
     "output_type": "stream",
     "text": [
      "Train Loss: 0.13512 Train Acc: 0.95175| Valid Loss: 0.40765 Valid Acc: 0.84948| Best Acc: 0.85155\n",
      "\n"
     ]
    },
    {
     "name": "stderr",
     "output_type": "stream",
     "text": [
      "Train Epoch 4: 100%|██████████| 243/243 [07:23<00:00,  1.82s/it, loss=0.031]\n",
      "Valid Epoch 4: 100%|██████████| 61/61 [00:28<00:00,  2.12it/s, loss=0.199]\n"
     ]
    },
    {
     "name": "stdout",
     "output_type": "stream",
     "text": [
      "Train Loss: 0.09427 Train Acc: 0.97085| Valid Loss: 0.49957 Valid Acc: 0.84639| Best Acc: 0.85155\n",
      "\n"
     ]
    },
    {
     "name": "stderr",
     "output_type": "stream",
     "text": [
      "Train Epoch 5: 100%|██████████| 243/243 [07:17<00:00,  1.80s/it, loss=0.026]\n",
      "Valid Epoch 5: 100%|██████████| 61/61 [00:30<00:00,  2.03it/s, loss=0.280]\n"
     ]
    },
    {
     "name": "stdout",
     "output_type": "stream",
     "text": [
      "Saving Model With Acc 0.87423\n",
      "Train Loss: 0.07596 Train Acc: 0.97833| Valid Loss: 0.48459 Valid Acc: 0.87423| Best Acc: 0.87423\n",
      "\n"
     ]
    },
    {
     "name": "stderr",
     "output_type": "stream",
     "text": [
      "Train Epoch 6: 100%|██████████| 243/243 [07:15<00:00,  1.79s/it, loss=0.007]\n",
      "Valid Epoch 6: 100%|██████████| 61/61 [00:28<00:00,  2.12it/s, loss=0.524]\n"
     ]
    },
    {
     "name": "stdout",
     "output_type": "stream",
     "text": [
      "Train Loss: 0.06989 Train Acc: 0.97678| Valid Loss: 0.58956 Valid Acc: 0.84639| Best Acc: 0.87423\n",
      "\n"
     ]
    },
    {
     "name": "stderr",
     "output_type": "stream",
     "text": [
      "Train Epoch 7: 100%|██████████| 243/243 [10:43<00:00,  2.65s/it, loss=0.319]  \n",
      "Valid Epoch 7: 100%|██████████| 61/61 [00:28<00:00,  2.15it/s, loss=0.242]\n"
     ]
    },
    {
     "name": "stdout",
     "output_type": "stream",
     "text": [
      "Train Loss: 0.06042 Train Acc: 0.98271| Valid Loss: 0.60409 Valid Acc: 0.86495| Best Acc: 0.87423\n",
      "\n"
     ]
    },
    {
     "name": "stderr",
     "output_type": "stream",
     "text": [
      "Train Epoch 8: 100%|██████████| 243/243 [06:58<00:00,  1.72s/it, loss=0.017]\n",
      "Valid Epoch 8: 100%|██████████| 61/61 [00:29<00:00,  2.10it/s, loss=0.001]\n"
     ]
    },
    {
     "name": "stdout",
     "output_type": "stream",
     "text": [
      "Train Loss: 0.05745 Train Acc: 0.98065| Valid Loss: 0.76607 Valid Acc: 0.84227| Best Acc: 0.87423\n",
      "\n"
     ]
    },
    {
     "name": "stderr",
     "output_type": "stream",
     "text": [
      "Train Epoch 9: 100%|██████████| 243/243 [18:07<00:00,  4.48s/it, loss=0.069]   \n",
      "Valid Epoch 9: 100%|██████████| 61/61 [00:27<00:00,  2.24it/s, loss=0.573]"
     ]
    },
    {
     "name": "stdout",
     "output_type": "stream",
     "text": [
      "Train Loss: 0.05145 Train Acc: 0.98504| Valid Loss: 0.63741 Valid Acc: 0.86701| Best Acc: 0.87423\n",
      "\n"
     ]
    },
    {
     "name": "stderr",
     "output_type": "stream",
     "text": [
      "\n"
     ]
    },
    {
     "data": {
      "image/png": "[encoded data removed]",
      "text/plain": [
       "<Figure size 640x480 with 1 Axes>"
      ]
     },
     "metadata": {},
     "output_type": "display_data"
    }
   ],
   "source": [
    "def show_training_loss(loss_record):\n",
    "    train_loss, valid_loss = [i for i in loss_record.values()]\n",
    "\n",
    "    plt.plot(train_loss)\n",
    "    plt.plot(valid_loss)\n",
    "    plt.title(\"Result\")\n",
    "    plt.ylabel(\"Loss\")\n",
    "    plt.xlabel(\"Epoch\")\n",
    "    plt.legend([\"train\", \"valid\"], loc=\"upper left\")\n",
    "    plt.show()\n",
    "\n",
    "\n",
    "best_acc = 0\n",
    "loss_record = {\"train\": [], \"valid\": []}\n",
    "\n",
    "for epoch in range(10):\n",
    "    train_loss, train_acc = train(epoch)\n",
    "    valid_loss, valid_acc = valid(epoch)\n",
    "\n",
    "    loss_record[\"train\"].append(train_loss)\n",
    "    loss_record[\"valid\"].append(valid_loss)\n",
    "\n",
    "    if valid_acc > best_acc:\n",
    "        best_acc = valid_acc\n",
    "        torch.save(model.state_dict(), \"xlnet_model.ckpt\")\n",
    "        print(f\"Saving Model With Acc {best_acc:.5f}\")\n",
    "\n",
    "    print(f\"Train Loss: {train_loss:.5f} Train Acc: {train_acc:.5f}\", end=\"| \")\n",
    "    print(f\"Valid Loss: {valid_loss:.5f} Valid Acc: {valid_acc:.5f}\", end=\"| \")\n",
    "    print(f\"Best Acc: {best_acc:.5f}\", end=\"\\n\\n\")\n",
    "\n",
    "show_training_loss(loss_record)"
   ]
  },
  {
   "cell_type": "markdown",
   "metadata": {},
   "source": [
    "In the last epoch of training, the model achieved a relatively high training accuracy of approximately 98.50% and a validation accuracy of about 86.70%. The training loss was quite low at 0.05145, indicating that the model's predictions on the training data were very close to the actual labels. However, the validation loss was higher at 0.63741, suggesting that the model may be overfitting to some extent as it is not generalizing as well to unseen validation data."
   ]
  }
 ],
 "metadata": {
  "kernelspec": {
   "display_name": "Python 3",
   "language": "python",
   "name": "python3"
  },
  "language_info": {
   "codemirror_mode": {
    "name": "ipython",
    "version": 3
   },
   "file_extension": ".py",
   "mimetype": "text/x-python",
   "name": "python",
   "nbconvert_exporter": "python",
   "pygments_lexer": "ipython3",
   "version": "3.9.1"
  }
 },
 "nbformat": 4,
 "nbformat_minor": 2
}
