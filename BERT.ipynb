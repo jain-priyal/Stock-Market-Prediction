{
 "cells": [
  {
   "cell_type": "code",
   "execution_count": null,
   "id": "5e446048",
   "metadata": {},
   "outputs": [],
   "source": [
    "import torch \n",
    "import torch.optim as optim \n",
    "import numpy as np \n",
    "import pandas as pd\n",
    "import random \n",
    "from tqdm import tqdm \n",
    "import matplotlib.pyplot as plt \n",
    "from torch.utils.data import Dataset, DataLoader\n",
    "from sklearn.model_selection import train_test_split\n",
    "from transformers import BertTokenizer, BertForSequenceClassification\n",
    "from torch.utils.data import Dataset, DataLoader\n",
    "from datasets import load_dataset\n",
    "from sklearn.metrics import classification_report\n",
    "\n",
    "def set_seeds(seed):\n",
    "    random.seed(seed) \n",
    "    np.random.seed(seed)  \n",
    "    torch.manual_seed(seed)\n",
    "    if torch.cuda.is_available():\n",
    "        torch.cuda.manual_seed(seed)\n",
    "        torch.cuda.manual_seed_all(seed) \n",
    "    torch.backends.cudnn.benchmark = False\n",
    "    torch.backends.cudnn.deterministic = True\n",
    "    \n",
    "set_seeds(0)"
   ]
  },
  {
   "cell_type": "markdown",
   "id": "ea6827ca",
   "metadata": {},
   "source": [
    "## Load file"
   ]
  },
  {
   "cell_type": "code",
   "execution_count": 2,
   "id": "1a8ec9b0",
   "metadata": {},
   "outputs": [
    {
     "name": "stdout",
     "output_type": "stream",
     "text": [
      "Trainset: 6152\n",
      "Validset: 970\n"
     ]
    }
   ],
   "source": [
    "new_df = pd.read_csv('final-data-updated.csv', encoding='utf-8-sig')\n",
    "new_df = new_df.dropna(subset=['Sentiment'])\n",
    "\n",
    "dataset = load_dataset('financial_phrasebank', 'sentences_50agree')\n",
    "train_dataset = dataset['train']\n",
    "\n",
    "# Extract data from Hugging Face\n",
    "huggingface_x = train_dataset['sentence']\n",
    "huggingface_y = train_dataset['label']\n",
    "\n",
    "# Extract columns from our dataset\n",
    "new_x = new_df['Summary'].tolist()\n",
    "new_y = new_df['Sentiment'].tolist()\n",
    "\n",
    "# Split dataset into train and test sets\n",
    "x_train, x_valid, y_train, y_valid = train_test_split(huggingface_x, huggingface_y, test_size=0.2, random_state=42)\n",
    "x_train += new_x\n",
    "y_train += new_y\n",
    "\n",
    "print(\"Trainset:\", len(x_train))\n",
    "print(\"Validset:\", len(x_valid))"
   ]
  },
  {
   "cell_type": "markdown",
   "id": "73991ec5",
   "metadata": {},
   "source": [
    "## Create dataset"
   ]
  },
  {
   "cell_type": "code",
   "execution_count": 3,
   "id": "543ce9b7",
   "metadata": {},
   "outputs": [],
   "source": [
    "# Convert to Pytorch format\n",
    "class News(Dataset):\n",
    "    def __init__(self, x, y):\n",
    "        self.x = x\n",
    "        self.y = y\n",
    "\n",
    "          \n",
    "    def __getitem__(self, index):\n",
    "        return self.x[index], self.y[index]\n",
    "       \n",
    "    def __len__(self):\n",
    "        return len(self.x)\n",
    "    \n",
    "trainset = News(x_train, y_train)\n",
    "validset = News(x_valid, y_valid)"
   ]
  },
  {
   "cell_type": "code",
   "execution_count": 4,
   "id": "613bc868",
   "metadata": {},
   "outputs": [],
   "source": [
    "\n",
    "def collate_fn(batch):  \n",
    "    # Batch retrieval\n",
    "    (x, y) = zip(*batch)\n",
    "    # Tokenise  x into tesnor (datatype = float)\n",
    "    x = tokenizer(x, max_length=512, truncation=True, padding=\"longest\", return_tensors='pt') \n",
    "    # Preparing labels (datatype = int)\n",
    "    y = {'labels': torch.LongTensor(y)}\n",
    "    return {**x, **y}\n",
    "\n",
    "# Initial tokenizer \n",
    "tokenizer = BertTokenizer.from_pretrained(\"textattack/bert-base-uncased-yelp-polarity\")\n",
    "# Set up a DataLoader for the training dataset\n",
    "train_loader = DataLoader(trainset, batch_size = 16, shuffle = True, num_workers = 0, pin_memory = True, collate_fn=collate_fn)\n",
    "# Set up a DataLoader for the testing dataset\n",
    "valid_loader = DataLoader(validset, batch_size = 16, shuffle = True, num_workers = 0, pin_memory = True, collate_fn=collate_fn)"
   ]
  },
  {
   "cell_type": "code",
   "execution_count": 5,
   "id": "e134f30b",
   "metadata": {},
   "outputs": [
    {
     "name": "stderr",
     "output_type": "stream",
     "text": [
      "Some weights of BertForSequenceClassification were not initialized from the model checkpoint at textattack/bert-base-uncased-yelp-polarity and are newly initialized because the shapes did not match:\n",
      "- classifier.weight: found shape torch.Size([2, 768]) in the checkpoint and torch.Size([3, 768]) in the model instantiated\n",
      "- classifier.bias: found shape torch.Size([2]) in the checkpoint and torch.Size([3]) in the model instantiated\n",
      "You should probably TRAIN this model on a down-stream task to be able to use it for predictions and inference.\n"
     ]
    }
   ],
   "source": [
    "device = torch.device('cuda' if torch.cuda.is_available() else 'cpu')\n",
    "# Model initialisation for sequence classification task with three output labels\n",
    "model = BertForSequenceClassification.from_pretrained(\"textattack/bert-base-uncased-yelp-polarity\", num_labels = 3, ignore_mismatched_sizes=True)\n",
    "model.to(device)\n",
    "# AdamW optimizer -> adjusting weights\n",
    "optimizer = optim.AdamW(model.parameters(), lr=5e-5)"
   ]
  },
  {
   "cell_type": "code",
   "execution_count": 6,
   "id": "6d7b2ac2",
   "metadata": {},
   "outputs": [],
   "source": [
    "def train(epoch):\n",
    "    train_loss, train_acc = 0, 0\n",
    "    train_pbar = tqdm(train_loader, position=0, leave=True) \n",
    "    \n",
    "    model.train() # switch to train mode\n",
    "    for input_datas in train_pbar: \n",
    "        for key in input_datas.keys():\n",
    "            input_datas[key] = input_datas[key].to(device)\n",
    "        optimizer.zero_grad()  # grad -> 0 to prevent gradient from accumulating\n",
    "        outputs = model(**input_datas) # forward propagation\n",
    "        \n",
    "        logits = outputs.logits\n",
    "        loss = outputs.loss\n",
    "\n",
    "        loss.backward() # backpropogation\n",
    "        optimizer.step() # update weight\n",
    "        \n",
    "        train_pbar.set_description(f'Train Epoch {epoch}')  \n",
    "        train_pbar.set_postfix({'loss':f'{loss:.3f}'}) # show current loss\n",
    "        \n",
    "        pred = torch.argmax(logits, dim = 1)\n",
    "        train_acc += sum(pred == input_datas['labels']) \n",
    "        train_loss += loss.item()  # save information of loss\n",
    "    return train_loss/len(train_loader), train_acc/len(trainset) # loss & accuracy\n",
    "\n",
    "\n",
    "def valid(epoch):\n",
    "    valid_loss, valid_acc = 0, 0\n",
    "    valid_pbar = tqdm(valid_loader, position=0, leave=True)\n",
    "    y_preds, y_trues = [], []\n",
    "    model.eval()\n",
    "    with torch.no_grad(): \n",
    "        for input_datas in valid_pbar:\n",
    "            for key in input_datas.keys():\n",
    "                input_datas[key] = input_datas[key].to(device)\n",
    "            \n",
    "            outputs = model(**input_datas)\n",
    "            logits = outputs.logits\n",
    "            loss = outputs.loss\n",
    "            \n",
    "            valid_pbar.set_description(f'Valid Epoch {epoch}')\n",
    "            valid_pbar.set_postfix({'loss':f'{loss:.3f}'})\n",
    "\n",
    "            pred = torch.argmax(logits, dim = 1)\n",
    "            valid_acc += sum(pred == input_datas['labels'])\n",
    "            valid_loss += loss.item()\n",
    "\n",
    "            y_trues.extend(input_datas['labels'].cpu())\n",
    "            y_preds.extend(pred.cpu())\n",
    "\n",
    "    print(classification_report(y_trues, y_preds))\n",
    "\n",
    "    return valid_loss/len(valid_loader), valid_acc/len(validset)\n",
    "\n",
    "\n",
    "# Function for plotting the result of loss   \n",
    "def show_training_loss(loss_record):\n",
    "    train_loss, valid_loss = [i for i in loss_record.values()]\n",
    "    \n",
    "    plt.plot(train_loss)\n",
    "    plt.plot(valid_loss)\n",
    "    plt.title('Result')\n",
    "    plt.ylabel('Loss')\n",
    "    plt.xlabel('Epoch')\n",
    "    plt.legend(['train', 'valid'], loc='upper left')\n",
    "    plt.show()"
   ]
  },
  {
   "cell_type": "code",
   "execution_count": 7,
   "id": "dcd3ffec",
   "metadata": {},
   "outputs": [
    {
     "name": "stderr",
     "output_type": "stream",
     "text": [
      "  0%|          | 0/385 [00:00<?, ?it/s]C:\\Users\\user\\AppData\\Local\\Temp\\ipykernel_13260\\358987072.py:4: DeprecationWarning: an integer is required (got type float).  Implicit conversion to integers using __int__ is deprecated, and may be removed in a future version of Python.\n",
      "  y = {'labels': torch.LongTensor(y)}\n",
      "Train Epoch 0: 100%|██████████| 385/385 [01:15<00:00,  5.07it/s, loss=0.634]\n",
      "Valid Epoch 0: 100%|██████████| 61/61 [00:01<00:00, 42.97it/s, loss=0.357]\n"
     ]
    },
    {
     "name": "stdout",
     "output_type": "stream",
     "text": [
      "              precision    recall  f1-score   support\n",
      "\n",
      "           0       0.45      0.45      0.45       110\n",
      "           1       0.83      0.84      0.83       571\n",
      "           2       0.51      0.49      0.50       289\n",
      "\n",
      "    accuracy                           0.69       970\n",
      "   macro avg       0.59      0.59      0.59       970\n",
      "weighted avg       0.69      0.69      0.69       970\n",
      "\n",
      "Saving Model With Acc 0.69072\n",
      "Train Loss: 0.85537 Train Acc: 0.60647| Valid Loss: 0.70618 Valid Acc: 0.69072| Best Acc: 0.69072\n",
      "\n"
     ]
    },
    {
     "name": "stderr",
     "output_type": "stream",
     "text": [
      "  0%|          | 0/385 [00:00<?, ?it/s]C:\\Users\\user\\AppData\\Local\\Temp\\ipykernel_13260\\358987072.py:4: DeprecationWarning: an integer is required (got type float).  Implicit conversion to integers using __int__ is deprecated, and may be removed in a future version of Python.\n",
      "  y = {'labels': torch.LongTensor(y)}\n",
      "Train Epoch 1: 100%|██████████| 385/385 [01:17<00:00,  4.98it/s, loss=0.803]\n",
      "Valid Epoch 1: 100%|██████████| 61/61 [00:01<00:00, 44.23it/s, loss=0.720]\n"
     ]
    },
    {
     "name": "stdout",
     "output_type": "stream",
     "text": [
      "              precision    recall  f1-score   support\n",
      "\n",
      "           0       0.58      0.87      0.70       110\n",
      "           1       0.89      0.79      0.84       571\n",
      "           2       0.69      0.72      0.71       289\n",
      "\n",
      "    accuracy                           0.78       970\n",
      "   macro avg       0.72      0.79      0.75       970\n",
      "weighted avg       0.80      0.78      0.78       970\n",
      "\n",
      "Saving Model With Acc 0.77732\n",
      "Train Loss: 0.61331 Train Acc: 0.75894| Valid Loss: 0.60060 Valid Acc: 0.77732| Best Acc: 0.77732\n",
      "\n"
     ]
    },
    {
     "name": "stderr",
     "output_type": "stream",
     "text": [
      "  0%|          | 0/385 [00:00<?, ?it/s]C:\\Users\\user\\AppData\\Local\\Temp\\ipykernel_13260\\358987072.py:4: DeprecationWarning: an integer is required (got type float).  Implicit conversion to integers using __int__ is deprecated, and may be removed in a future version of Python.\n",
      "  y = {'labels': torch.LongTensor(y)}\n",
      "Train Epoch 2: 100%|██████████| 385/385 [01:15<00:00,  5.07it/s, loss=0.638]\n",
      "Valid Epoch 2: 100%|██████████| 61/61 [00:01<00:00, 44.03it/s, loss=0.428]\n"
     ]
    },
    {
     "name": "stdout",
     "output_type": "stream",
     "text": [
      "              precision    recall  f1-score   support\n",
      "\n",
      "           0       0.80      0.65      0.71       110\n",
      "           1       0.88      0.87      0.87       571\n",
      "           2       0.74      0.80      0.77       289\n",
      "\n",
      "    accuracy                           0.82       970\n",
      "   macro avg       0.80      0.77      0.79       970\n",
      "weighted avg       0.83      0.82      0.82       970\n",
      "\n",
      "Saving Model With Acc 0.82474\n",
      "Train Loss: 0.44906 Train Acc: 0.84330| Valid Loss: 0.52704 Valid Acc: 0.82474| Best Acc: 0.82474\n",
      "\n"
     ]
    },
    {
     "name": "stderr",
     "output_type": "stream",
     "text": [
      "  0%|          | 0/385 [00:00<?, ?it/s]C:\\Users\\user\\AppData\\Local\\Temp\\ipykernel_13260\\358987072.py:4: DeprecationWarning: an integer is required (got type float).  Implicit conversion to integers using __int__ is deprecated, and may be removed in a future version of Python.\n",
      "  y = {'labels': torch.LongTensor(y)}\n",
      "Train Epoch 3: 100%|██████████| 385/385 [01:16<00:00,  5.05it/s, loss=0.192]\n",
      "Valid Epoch 3: 100%|██████████| 61/61 [00:01<00:00, 43.15it/s, loss=0.132]\n"
     ]
    },
    {
     "name": "stdout",
     "output_type": "stream",
     "text": [
      "              precision    recall  f1-score   support\n",
      "\n",
      "           0       0.75      0.75      0.75       110\n",
      "           1       0.90      0.84      0.87       571\n",
      "           2       0.74      0.83      0.79       289\n",
      "\n",
      "    accuracy                           0.83       970\n",
      "   macro avg       0.80      0.81      0.80       970\n",
      "weighted avg       0.83      0.83      0.83       970\n",
      "\n",
      "Saving Model With Acc 0.82784\n",
      "Train Loss: 0.33769 Train Acc: 0.88410| Valid Loss: 0.47212 Valid Acc: 0.82784| Best Acc: 0.82784\n",
      "\n"
     ]
    },
    {
     "name": "stderr",
     "output_type": "stream",
     "text": [
      "  0%|          | 0/385 [00:00<?, ?it/s]C:\\Users\\user\\AppData\\Local\\Temp\\ipykernel_13260\\358987072.py:4: DeprecationWarning: an integer is required (got type float).  Implicit conversion to integers using __int__ is deprecated, and may be removed in a future version of Python.\n",
      "  y = {'labels': torch.LongTensor(y)}\n",
      "Train Epoch 4: 100%|██████████| 385/385 [01:16<00:00,  5.01it/s, loss=0.905]\n",
      "Valid Epoch 4: 100%|██████████| 61/61 [00:01<00:00, 43.72it/s, loss=0.441]\n"
     ]
    },
    {
     "name": "stdout",
     "output_type": "stream",
     "text": [
      "              precision    recall  f1-score   support\n",
      "\n",
      "           0       0.76      0.76      0.76       110\n",
      "           1       0.88      0.85      0.87       571\n",
      "           2       0.74      0.79      0.77       289\n",
      "\n",
      "    accuracy                           0.82       970\n",
      "   macro avg       0.80      0.80      0.80       970\n",
      "weighted avg       0.83      0.82      0.82       970\n",
      "\n",
      "Train Loss: 0.20574 Train Acc: 0.93449| Valid Loss: 0.59496 Valid Acc: 0.82371| Best Acc: 0.82784\n",
      "\n"
     ]
    },
    {
     "name": "stderr",
     "output_type": "stream",
     "text": [
      "  0%|          | 0/385 [00:00<?, ?it/s]C:\\Users\\user\\AppData\\Local\\Temp\\ipykernel_13260\\358987072.py:4: DeprecationWarning: an integer is required (got type float).  Implicit conversion to integers using __int__ is deprecated, and may be removed in a future version of Python.\n",
      "  y = {'labels': torch.LongTensor(y)}\n",
      "Train Epoch 5: 100%|██████████| 385/385 [01:15<00:00,  5.08it/s, loss=0.875]\n",
      "Valid Epoch 5: 100%|██████████| 61/61 [00:01<00:00, 44.11it/s, loss=0.707]\n"
     ]
    },
    {
     "name": "stdout",
     "output_type": "stream",
     "text": [
      "              precision    recall  f1-score   support\n",
      "\n",
      "           0       0.92      0.60      0.73       110\n",
      "           1       0.87      0.88      0.87       571\n",
      "           2       0.71      0.80      0.75       289\n",
      "\n",
      "    accuracy                           0.82       970\n",
      "   macro avg       0.83      0.76      0.78       970\n",
      "weighted avg       0.83      0.82      0.82       970\n",
      "\n",
      "Train Loss: 0.13911 Train Acc: 0.96099| Valid Loss: 0.58043 Valid Acc: 0.82062| Best Acc: 0.82784\n",
      "\n"
     ]
    },
    {
     "name": "stderr",
     "output_type": "stream",
     "text": [
      "  0%|          | 0/385 [00:00<?, ?it/s]C:\\Users\\user\\AppData\\Local\\Temp\\ipykernel_13260\\358987072.py:4: DeprecationWarning: an integer is required (got type float).  Implicit conversion to integers using __int__ is deprecated, and may be removed in a future version of Python.\n",
      "  y = {'labels': torch.LongTensor(y)}\n",
      "Train Epoch 6: 100%|██████████| 385/385 [01:16<00:00,  5.05it/s, loss=0.380]\n",
      "Valid Epoch 6: 100%|██████████| 61/61 [00:01<00:00, 43.86it/s, loss=0.502]\n"
     ]
    },
    {
     "name": "stdout",
     "output_type": "stream",
     "text": [
      "              precision    recall  f1-score   support\n",
      "\n",
      "           0       0.72      0.76      0.74       110\n",
      "           1       0.85      0.92      0.88       571\n",
      "           2       0.85      0.69      0.76       289\n",
      "\n",
      "    accuracy                           0.83       970\n",
      "   macro avg       0.81      0.79      0.80       970\n",
      "weighted avg       0.84      0.83      0.83       970\n",
      "\n",
      "Saving Model With Acc 0.83402\n",
      "Train Loss: 0.13394 Train Acc: 0.95806| Valid Loss: 0.76638 Valid Acc: 0.83402| Best Acc: 0.83402\n",
      "\n"
     ]
    },
    {
     "name": "stderr",
     "output_type": "stream",
     "text": [
      "  0%|          | 0/385 [00:00<?, ?it/s]C:\\Users\\user\\AppData\\Local\\Temp\\ipykernel_13260\\358987072.py:4: DeprecationWarning: an integer is required (got type float).  Implicit conversion to integers using __int__ is deprecated, and may be removed in a future version of Python.\n",
      "  y = {'labels': torch.LongTensor(y)}\n",
      "Train Epoch 7: 100%|██████████| 385/385 [01:18<00:00,  4.89it/s, loss=0.011]\n",
      "Valid Epoch 7: 100%|██████████| 61/61 [00:01<00:00, 42.62it/s, loss=2.213]\n"
     ]
    },
    {
     "name": "stdout",
     "output_type": "stream",
     "text": [
      "              precision    recall  f1-score   support\n",
      "\n",
      "           0       0.79      0.74      0.76       110\n",
      "           1       0.83      0.90      0.87       571\n",
      "           2       0.81      0.70      0.75       289\n",
      "\n",
      "    accuracy                           0.82       970\n",
      "   macro avg       0.81      0.78      0.79       970\n",
      "weighted avg       0.82      0.82      0.82       970\n",
      "\n",
      "Train Loss: 0.10150 Train Acc: 0.96765| Valid Loss: 0.81365 Valid Acc: 0.82268| Best Acc: 0.83402\n",
      "\n"
     ]
    },
    {
     "name": "stderr",
     "output_type": "stream",
     "text": [
      "  0%|          | 0/385 [00:00<?, ?it/s]C:\\Users\\user\\AppData\\Local\\Temp\\ipykernel_13260\\358987072.py:4: DeprecationWarning: an integer is required (got type float).  Implicit conversion to integers using __int__ is deprecated, and may be removed in a future version of Python.\n",
      "  y = {'labels': torch.LongTensor(y)}\n",
      "Train Epoch 8: 100%|██████████| 385/385 [01:17<00:00,  4.97it/s, loss=0.789]\n",
      "Valid Epoch 8: 100%|██████████| 61/61 [00:01<00:00, 42.76it/s, loss=0.391]\n"
     ]
    },
    {
     "name": "stdout",
     "output_type": "stream",
     "text": [
      "              precision    recall  f1-score   support\n",
      "\n",
      "           0       0.51      0.91      0.65       110\n",
      "           1       0.92      0.70      0.79       571\n",
      "           2       0.70      0.83      0.76       289\n",
      "\n",
      "    accuracy                           0.76       970\n",
      "   macro avg       0.71      0.81      0.73       970\n",
      "weighted avg       0.81      0.76      0.77       970\n",
      "\n",
      "Train Loss: 0.09246 Train Acc: 0.97513| Valid Loss: 0.89938 Valid Acc: 0.75979| Best Acc: 0.83402\n",
      "\n"
     ]
    },
    {
     "name": "stderr",
     "output_type": "stream",
     "text": [
      "  0%|          | 0/385 [00:00<?, ?it/s]C:\\Users\\user\\AppData\\Local\\Temp\\ipykernel_13260\\358987072.py:4: DeprecationWarning: an integer is required (got type float).  Implicit conversion to integers using __int__ is deprecated, and may be removed in a future version of Python.\n",
      "  y = {'labels': torch.LongTensor(y)}\n",
      "Train Epoch 9: 100%|██████████| 385/385 [01:16<00:00,  5.03it/s, loss=0.006]\n",
      "Valid Epoch 9: 100%|██████████| 61/61 [00:01<00:00, 44.15it/s, loss=1.463]\n"
     ]
    },
    {
     "name": "stdout",
     "output_type": "stream",
     "text": [
      "              precision    recall  f1-score   support\n",
      "\n",
      "           0       0.76      0.85      0.80       110\n",
      "           1       0.87      0.87      0.87       571\n",
      "           2       0.80      0.77      0.78       289\n",
      "\n",
      "    accuracy                           0.84       970\n",
      "   macro avg       0.81      0.83      0.82       970\n",
      "weighted avg       0.84      0.84      0.84       970\n",
      "\n",
      "Saving Model With Acc 0.83814\n",
      "Train Loss: 0.08495 Train Acc: 0.97432| Valid Loss: 0.62770 Valid Acc: 0.83814| Best Acc: 0.83814\n",
      "\n"
     ]
    },
    {
     "name": "stderr",
     "output_type": "stream",
     "text": [
      "  0%|          | 0/385 [00:00<?, ?it/s]C:\\Users\\user\\AppData\\Local\\Temp\\ipykernel_13260\\358987072.py:4: DeprecationWarning: an integer is required (got type float).  Implicit conversion to integers using __int__ is deprecated, and may be removed in a future version of Python.\n",
      "  y = {'labels': torch.LongTensor(y)}\n",
      "Train Epoch 10: 100%|██████████| 385/385 [01:15<00:00,  5.10it/s, loss=0.003]\n",
      "Valid Epoch 10: 100%|██████████| 61/61 [00:01<00:00, 43.76it/s, loss=0.329]\n"
     ]
    },
    {
     "name": "stdout",
     "output_type": "stream",
     "text": [
      "              precision    recall  f1-score   support\n",
      "\n",
      "           0       0.89      0.57      0.70       110\n",
      "           1       0.84      0.88      0.86       571\n",
      "           2       0.75      0.79      0.77       289\n",
      "\n",
      "    accuracy                           0.82       970\n",
      "   macro avg       0.83      0.75      0.78       970\n",
      "weighted avg       0.82      0.82      0.82       970\n",
      "\n",
      "Train Loss: 0.05004 Train Acc: 0.98423| Valid Loss: 0.93201 Valid Acc: 0.81856| Best Acc: 0.83814\n",
      "\n"
     ]
    },
    {
     "name": "stderr",
     "output_type": "stream",
     "text": [
      "  0%|          | 0/385 [00:00<?, ?it/s]C:\\Users\\user\\AppData\\Local\\Temp\\ipykernel_13260\\358987072.py:4: DeprecationWarning: an integer is required (got type float).  Implicit conversion to integers using __int__ is deprecated, and may be removed in a future version of Python.\n",
      "  y = {'labels': torch.LongTensor(y)}\n",
      "Train Epoch 11: 100%|██████████| 385/385 [01:16<00:00,  5.03it/s, loss=0.035]\n",
      "Valid Epoch 11: 100%|██████████| 61/61 [00:01<00:00, 44.08it/s, loss=0.855]\n"
     ]
    },
    {
     "name": "stdout",
     "output_type": "stream",
     "text": [
      "              precision    recall  f1-score   support\n",
      "\n",
      "           0       0.82      0.74      0.78       110\n",
      "           1       0.87      0.85      0.86       571\n",
      "           2       0.72      0.79      0.75       289\n",
      "\n",
      "    accuracy                           0.82       970\n",
      "   macro avg       0.80      0.79      0.80       970\n",
      "weighted avg       0.82      0.82      0.82       970\n",
      "\n",
      "Train Loss: 0.07500 Train Acc: 0.97903| Valid Loss: 0.71893 Valid Acc: 0.81753| Best Acc: 0.83814\n",
      "\n"
     ]
    },
    {
     "name": "stderr",
     "output_type": "stream",
     "text": [
      "  0%|          | 0/385 [00:00<?, ?it/s]C:\\Users\\user\\AppData\\Local\\Temp\\ipykernel_13260\\358987072.py:4: DeprecationWarning: an integer is required (got type float).  Implicit conversion to integers using __int__ is deprecated, and may be removed in a future version of Python.\n",
      "  y = {'labels': torch.LongTensor(y)}\n",
      "Train Epoch 12: 100%|██████████| 385/385 [01:14<00:00,  5.14it/s, loss=0.013]\n",
      "Valid Epoch 12: 100%|██████████| 61/61 [00:01<00:00, 43.85it/s, loss=0.006]\n"
     ]
    },
    {
     "name": "stdout",
     "output_type": "stream",
     "text": [
      "              precision    recall  f1-score   support\n",
      "\n",
      "           0       0.84      0.74      0.79       110\n",
      "           1       0.87      0.85      0.86       571\n",
      "           2       0.73      0.81      0.77       289\n",
      "\n",
      "    accuracy                           0.82       970\n",
      "   macro avg       0.82      0.80      0.81       970\n",
      "weighted avg       0.83      0.82      0.83       970\n",
      "\n",
      "Train Loss: 0.04984 Train Acc: 0.98586| Valid Loss: 0.85105 Valid Acc: 0.82474| Best Acc: 0.83814\n",
      "\n"
     ]
    },
    {
     "name": "stderr",
     "output_type": "stream",
     "text": [
      "  0%|          | 0/385 [00:00<?, ?it/s]C:\\Users\\user\\AppData\\Local\\Temp\\ipykernel_13260\\358987072.py:4: DeprecationWarning: an integer is required (got type float).  Implicit conversion to integers using __int__ is deprecated, and may be removed in a future version of Python.\n",
      "  y = {'labels': torch.LongTensor(y)}\n",
      "Train Epoch 13: 100%|██████████| 385/385 [01:14<00:00,  5.14it/s, loss=0.010]\n",
      "Valid Epoch 13: 100%|██████████| 61/61 [00:01<00:00, 44.62it/s, loss=0.659]\n"
     ]
    },
    {
     "name": "stdout",
     "output_type": "stream",
     "text": [
      "              precision    recall  f1-score   support\n",
      "\n",
      "           0       0.74      0.77      0.76       110\n",
      "           1       0.86      0.88      0.87       571\n",
      "           2       0.78      0.73      0.76       289\n",
      "\n",
      "    accuracy                           0.82       970\n",
      "   macro avg       0.79      0.79      0.79       970\n",
      "weighted avg       0.82      0.82      0.82       970\n",
      "\n",
      "------------------------------------\n",
      "|Model can't improve, stop training|\n",
      "------------------------------------\n"
     ]
    },
    {
     "data": {
      "image/png": "[encoded data removed]",
      "text/plain": [
       "<Figure size 640x480 with 1 Axes>"
      ]
     },
     "metadata": {},
     "output_type": "display_data"
    }
   ],
   "source": [
    "# Setting up hyperparameters\n",
    "epochs = 20                              \n",
    "early_stopping = 4                      \n",
    "stop_cnt = 0                         \n",
    "model_path = 'model.ckpt'                \n",
    "show_loss = True                        \n",
    "best_acc = 0                             \n",
    "loss_record = {'train':[], 'valid':[]}   \n",
    "\n",
    "for epoch in range(epochs):   \n",
    "    train_loss, train_acc = train(epoch)\n",
    "    valid_loss, valid_acc = valid(epoch)\n",
    "    \n",
    "    loss_record['train'].append(train_loss)\n",
    "    loss_record['valid'].append(valid_loss)\n",
    "    \n",
    "    # save best weight\n",
    "    if valid_acc > best_acc:\n",
    "        best_acc = valid_acc\n",
    "        torch.save(model.state_dict(), model_path)\n",
    "        print(f'Saving Model With Acc {best_acc:.5f}')\n",
    "        stop_cnt = 0\n",
    "    else:\n",
    "        stop_cnt+=1\n",
    "    \n",
    "    # Early stopping\n",
    "    if stop_cnt == early_stopping:\n",
    "        output = \"Model can't improve, stop training\"\n",
    "        print('-' * (len(output)+2))\n",
    "        print(f'|{output}|')\n",
    "        print('-' * (len(output)+2))\n",
    "        break\n",
    "\n",
    "    print(f'Train Loss: {train_loss:.5f} Train Acc: {train_acc:.5f}', end='| ')\n",
    "    print(f'Valid Loss: {valid_loss:.5f} Valid Acc: {valid_acc:.5f}', end='| ')\n",
    "    print(f'Best Acc: {best_acc:.5f}', end='\\n\\n')\n",
    "\n",
    "if show_loss:\n",
    "    show_training_loss(loss_record)\n",
    "        "
   ]
  }
 ],
 "metadata": {
  "kernelspec": {
   "display_name": "Python 3 (ipykernel)",
   "language": "python",
   "name": "python3"
  },
  "language_info": {
   "codemirror_mode": {
    "name": "ipython",
    "version": 3
   },
   "file_extension": ".py",
   "mimetype": "text/x-python",
   "name": "python",
   "nbconvert_exporter": "python",
   "pygments_lexer": "ipython3",
   "version": "3.11.9"
  }
 },
 "nbformat": 4,
 "nbformat_minor": 5
}
