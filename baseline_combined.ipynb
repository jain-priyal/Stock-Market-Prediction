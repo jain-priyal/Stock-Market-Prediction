{
 "cells": [
  {
   "cell_type": "markdown",
   "id": "d8e2adaa",
   "metadata": {},
   "source": [
    "# PART C: Modeling"
   ]
  },
  {
   "cell_type": "markdown",
   "id": "9ebd72e5",
   "metadata": {},
   "source": [
    "## Implement a statistical models baseline"
   ]
  },
  {
   "cell_type": "code",
   "execution_count": 3,
   "id": "8ee637c9",
   "metadata": {},
   "outputs": [],
   "source": [
    "import pandas as pd\n",
    "from sklearn.model_selection import train_test_split\n",
    "from sklearn.feature_extraction.text import TfidfVectorizer\n",
    "from sklearn.svm import SVC\n",
    "from sklearn.metrics import accuracy_score, f1_score\n",
    "from datasets import load_dataset\n",
    "from sklearn.linear_model import LogisticRegression"
   ]
  },
  {
   "cell_type": "markdown",
   "id": "e3ef912b",
   "metadata": {},
   "source": [
    "## Load and Prepare Dataset"
   ]
  },
  {
   "cell_type": "markdown",
   "id": "0df1eb32",
   "metadata": {},
   "source": [
    "This section loads the dataset required for the model, preprocesses it by removing any rows with missing 'Sentiment' values, and combines it with another dataset loaded from an external source."
   ]
  },
  {
   "cell_type": "code",
   "execution_count": 4,
   "id": "9bf1dbc6",
   "metadata": {},
   "outputs": [],
   "source": [
    "# Load dataset from a CSV file\n",
    "new_df = pd.read_csv('final-data-updated.csv', encoding='utf-8-sig')\n",
    "# Remove rows where 'Sentiment' column has missing values\n",
    "new_df = new_df.dropna(subset=['Sentiment'])\n",
    "\n",
    "# Load additional dataset from the 'financial_phrasebank'\n",
    "dataset = load_dataset('financial_phrasebank', 'sentences_50agree')\n",
    "train_dataset = dataset['train']\n",
    "\n",
    "# Extract sentences and labels\n",
    "x = train_dataset['sentence']\n",
    "y = train_dataset['label']\n",
    "\n",
    "#Extract columns from our dataset\n",
    "new_x = new_df['Summary'].tolist()\n",
    "new_y = new_df['Sentiment'].tolist()"
   ]
  },
  {
   "cell_type": "markdown",
   "id": "f334f79d",
   "metadata": {},
   "source": [
    "## Split Dataset"
   ]
  },
  {
   "cell_type": "markdown",
   "id": "5495f9f8",
   "metadata": {},
   "source": [
    "Split the dataset into training and testing sets to evaluate the model effectively. Additionally, combine the newly loaded data with the existing dataset."
   ]
  },
  {
   "cell_type": "code",
   "execution_count": 5,
   "id": "53b61e4b",
   "metadata": {},
   "outputs": [
    {
     "name": "stdout",
     "output_type": "stream",
     "text": [
      "Trainset: 6152\n",
      "Validset: 970\n"
     ]
    }
   ],
   "source": [
    "# Split dataset into training and test sets\n",
    "x_train, x_test, y_train, y_test = train_test_split(x, y, test_size=0.2, random_state=42)\n",
    "\n",
    "# Append newly loaded data to the training set\n",
    "x_train += new_x\n",
    "y_train += new_y\n",
    "\n",
    "print(\"Trainset:\", len(x_train))\n",
    "print(\"Validset:\", len(x_test))"
   ]
  },
  {
   "cell_type": "markdown",
   "id": "59fab25a",
   "metadata": {},
   "source": [
    "## Feature Extraction with TF-IDF"
   ]
  },
  {
   "cell_type": "markdown",
   "id": "3c92aa64",
   "metadata": {},
   "source": [
    "Use Term Frequency-Inverse Document Frequency (TF-IDF) to convert the text data into a format that can be used by the machine learning model."
   ]
  },
  {
   "cell_type": "code",
   "execution_count": 6,
   "id": "594bcfc8",
   "metadata": {},
   "outputs": [],
   "source": [
    "# Initialize TF-IDF vectorizer with a maximum of 1000 features\n",
    "vectorizer = TfidfVectorizer(max_features=1000)\n",
    "# Fit the vectorizer to the training data and transform it\n",
    "x_train_tfidf = vectorizer.fit_transform(x_train).toarray()\n",
    "# Transform the test data based on the trained vectorizer\n",
    "x_valid_tfidf = vectorizer.transform(x_test).toarray()"
   ]
  },
  {
   "cell_type": "code",
   "execution_count": 8,
   "id": "bb7bfb5b",
   "metadata": {},
   "outputs": [
    {
     "data": {
      "text/html": [
       "<style>#sk-container-id-1 {color: black;}#sk-container-id-1 pre{padding: 0;}#sk-container-id-1 div.sk-toggleable {background-color: white;}#sk-container-id-1 label.sk-toggleable__label {cursor: pointer;display: block;width: 100%;margin-bottom: 0;padding: 0.3em;box-sizing: border-box;text-align: center;}#sk-container-id-1 label.sk-toggleable__label-arrow:before {content: \"▸\";float: left;margin-right: 0.25em;color: #696969;}#sk-container-id-1 label.sk-toggleable__label-arrow:hover:before {color: black;}#sk-container-id-1 div.sk-estimator:hover label.sk-toggleable__label-arrow:before {color: black;}#sk-container-id-1 div.sk-toggleable__content {max-height: 0;max-width: 0;overflow: hidden;text-align: left;background-color: #f0f8ff;}#sk-container-id-1 div.sk-toggleable__content pre {margin: 0.2em;color: black;border-radius: 0.25em;background-color: #f0f8ff;}#sk-container-id-1 input.sk-toggleable__control:checked~div.sk-toggleable__content {max-height: 200px;max-width: 100%;overflow: auto;}#sk-container-id-1 input.sk-toggleable__control:checked~label.sk-toggleable__label-arrow:before {content: \"▾\";}#sk-container-id-1 div.sk-estimator input.sk-toggleable__control:checked~label.sk-toggleable__label {background-color: #d4ebff;}#sk-container-id-1 div.sk-label input.sk-toggleable__control:checked~label.sk-toggleable__label {background-color: #d4ebff;}#sk-container-id-1 input.sk-hidden--visually {border: 0;clip: rect(1px 1px 1px 1px);clip: rect(1px, 1px, 1px, 1px);height: 1px;margin: -1px;overflow: hidden;padding: 0;position: absolute;width: 1px;}#sk-container-id-1 div.sk-estimator {font-family: monospace;background-color: #f0f8ff;border: 1px dotted black;border-radius: 0.25em;box-sizing: border-box;margin-bottom: 0.5em;}#sk-container-id-1 div.sk-estimator:hover {background-color: #d4ebff;}#sk-container-id-1 div.sk-parallel-item::after {content: \"\";width: 100%;border-bottom: 1px solid gray;flex-grow: 1;}#sk-container-id-1 div.sk-label:hover label.sk-toggleable__label {background-color: #d4ebff;}#sk-container-id-1 div.sk-serial::before {content: \"\";position: absolute;border-left: 1px solid gray;box-sizing: border-box;top: 0;bottom: 0;left: 50%;z-index: 0;}#sk-container-id-1 div.sk-serial {display: flex;flex-direction: column;align-items: center;background-color: white;padding-right: 0.2em;padding-left: 0.2em;position: relative;}#sk-container-id-1 div.sk-item {position: relative;z-index: 1;}#sk-container-id-1 div.sk-parallel {display: flex;align-items: stretch;justify-content: center;background-color: white;position: relative;}#sk-container-id-1 div.sk-item::before, #sk-container-id-1 div.sk-parallel-item::before {content: \"\";position: absolute;border-left: 1px solid gray;box-sizing: border-box;top: 0;bottom: 0;left: 50%;z-index: -1;}#sk-container-id-1 div.sk-parallel-item {display: flex;flex-direction: column;z-index: 1;position: relative;background-color: white;}#sk-container-id-1 div.sk-parallel-item:first-child::after {align-self: flex-end;width: 50%;}#sk-container-id-1 div.sk-parallel-item:last-child::after {align-self: flex-start;width: 50%;}#sk-container-id-1 div.sk-parallel-item:only-child::after {width: 0;}#sk-container-id-1 div.sk-dashed-wrapped {border: 1px dashed gray;margin: 0 0.4em 0.5em 0.4em;box-sizing: border-box;padding-bottom: 0.4em;background-color: white;}#sk-container-id-1 div.sk-label label {font-family: monospace;font-weight: bold;display: inline-block;line-height: 1.2em;}#sk-container-id-1 div.sk-label-container {text-align: center;}#sk-container-id-1 div.sk-container {/* jupyter's `normalize.less` sets `[hidden] { display: none; }` but bootstrap.min.css set `[hidden] { display: none !important; }` so we also need the `!important` here to be able to override the default hidden behavior on the sphinx rendered scikit-learn.org. See: https://github.com/scikit-learn/scikit-learn/issues/21755 */display: inline-block !important;position: relative;}#sk-container-id-1 div.sk-text-repr-fallback {display: none;}</style><div id=\"sk-container-id-1\" class=\"sk-top-container\"><div class=\"sk-text-repr-fallback\"><pre>LogisticRegression(multi_class=&#x27;multinomial&#x27;)</pre><b>In a Jupyter environment, please rerun this cell to show the HTML representation or trust the notebook. <br />On GitHub, the HTML representation is unable to render, please try loading this page with nbviewer.org.</b></div><div class=\"sk-container\" hidden><div class=\"sk-item\"><div class=\"sk-estimator sk-toggleable\"><input class=\"sk-toggleable__control sk-hidden--visually\" id=\"sk-estimator-id-1\" type=\"checkbox\" checked><label for=\"sk-estimator-id-1\" class=\"sk-toggleable__label sk-toggleable__label-arrow\">LogisticRegression</label><div class=\"sk-toggleable__content\"><pre>LogisticRegression(multi_class=&#x27;multinomial&#x27;)</pre></div></div></div></div></div>"
      ],
      "text/plain": [
       "LogisticRegression(multi_class='multinomial')"
      ]
     },
     "execution_count": 8,
     "metadata": {},
     "output_type": "execute_result"
    }
   ],
   "source": [
    "# Logistic Regression\n",
    "model = LogisticRegression(multi_class='multinomial', solver='lbfgs')\n",
    "model.fit(x_train_tfidf, y_train)"
   ]
  },
  {
   "cell_type": "markdown",
   "id": "6e0d1d1a",
   "metadata": {},
   "source": [
    "## Train the SVM Classifier"
   ]
  },
  {
   "cell_type": "markdown",
   "id": "a10bf0a3",
   "metadata": {},
   "source": [
    "Train a Support Vector Machine (SVM) classifier using the linear kernel and evaluate its performance on the test set."
   ]
  },
  {
   "cell_type": "code",
   "execution_count": 9,
   "id": "950540d7",
   "metadata": {},
   "outputs": [
    {
     "data": {
      "text/html": [
       "<style>#sk-container-id-2 {color: black;}#sk-container-id-2 pre{padding: 0;}#sk-container-id-2 div.sk-toggleable {background-color: white;}#sk-container-id-2 label.sk-toggleable__label {cursor: pointer;display: block;width: 100%;margin-bottom: 0;padding: 0.3em;box-sizing: border-box;text-align: center;}#sk-container-id-2 label.sk-toggleable__label-arrow:before {content: \"▸\";float: left;margin-right: 0.25em;color: #696969;}#sk-container-id-2 label.sk-toggleable__label-arrow:hover:before {color: black;}#sk-container-id-2 div.sk-estimator:hover label.sk-toggleable__label-arrow:before {color: black;}#sk-container-id-2 div.sk-toggleable__content {max-height: 0;max-width: 0;overflow: hidden;text-align: left;background-color: #f0f8ff;}#sk-container-id-2 div.sk-toggleable__content pre {margin: 0.2em;color: black;border-radius: 0.25em;background-color: #f0f8ff;}#sk-container-id-2 input.sk-toggleable__control:checked~div.sk-toggleable__content {max-height: 200px;max-width: 100%;overflow: auto;}#sk-container-id-2 input.sk-toggleable__control:checked~label.sk-toggleable__label-arrow:before {content: \"▾\";}#sk-container-id-2 div.sk-estimator input.sk-toggleable__control:checked~label.sk-toggleable__label {background-color: #d4ebff;}#sk-container-id-2 div.sk-label input.sk-toggleable__control:checked~label.sk-toggleable__label {background-color: #d4ebff;}#sk-container-id-2 input.sk-hidden--visually {border: 0;clip: rect(1px 1px 1px 1px);clip: rect(1px, 1px, 1px, 1px);height: 1px;margin: -1px;overflow: hidden;padding: 0;position: absolute;width: 1px;}#sk-container-id-2 div.sk-estimator {font-family: monospace;background-color: #f0f8ff;border: 1px dotted black;border-radius: 0.25em;box-sizing: border-box;margin-bottom: 0.5em;}#sk-container-id-2 div.sk-estimator:hover {background-color: #d4ebff;}#sk-container-id-2 div.sk-parallel-item::after {content: \"\";width: 100%;border-bottom: 1px solid gray;flex-grow: 1;}#sk-container-id-2 div.sk-label:hover label.sk-toggleable__label {background-color: #d4ebff;}#sk-container-id-2 div.sk-serial::before {content: \"\";position: absolute;border-left: 1px solid gray;box-sizing: border-box;top: 0;bottom: 0;left: 50%;z-index: 0;}#sk-container-id-2 div.sk-serial {display: flex;flex-direction: column;align-items: center;background-color: white;padding-right: 0.2em;padding-left: 0.2em;position: relative;}#sk-container-id-2 div.sk-item {position: relative;z-index: 1;}#sk-container-id-2 div.sk-parallel {display: flex;align-items: stretch;justify-content: center;background-color: white;position: relative;}#sk-container-id-2 div.sk-item::before, #sk-container-id-2 div.sk-parallel-item::before {content: \"\";position: absolute;border-left: 1px solid gray;box-sizing: border-box;top: 0;bottom: 0;left: 50%;z-index: -1;}#sk-container-id-2 div.sk-parallel-item {display: flex;flex-direction: column;z-index: 1;position: relative;background-color: white;}#sk-container-id-2 div.sk-parallel-item:first-child::after {align-self: flex-end;width: 50%;}#sk-container-id-2 div.sk-parallel-item:last-child::after {align-self: flex-start;width: 50%;}#sk-container-id-2 div.sk-parallel-item:only-child::after {width: 0;}#sk-container-id-2 div.sk-dashed-wrapped {border: 1px dashed gray;margin: 0 0.4em 0.5em 0.4em;box-sizing: border-box;padding-bottom: 0.4em;background-color: white;}#sk-container-id-2 div.sk-label label {font-family: monospace;font-weight: bold;display: inline-block;line-height: 1.2em;}#sk-container-id-2 div.sk-label-container {text-align: center;}#sk-container-id-2 div.sk-container {/* jupyter's `normalize.less` sets `[hidden] { display: none; }` but bootstrap.min.css set `[hidden] { display: none !important; }` so we also need the `!important` here to be able to override the default hidden behavior on the sphinx rendered scikit-learn.org. See: https://github.com/scikit-learn/scikit-learn/issues/21755 */display: inline-block !important;position: relative;}#sk-container-id-2 div.sk-text-repr-fallback {display: none;}</style><div id=\"sk-container-id-2\" class=\"sk-top-container\"><div class=\"sk-text-repr-fallback\"><pre>SVC(C=1, kernel=&#x27;linear&#x27;)</pre><b>In a Jupyter environment, please rerun this cell to show the HTML representation or trust the notebook. <br />On GitHub, the HTML representation is unable to render, please try loading this page with nbviewer.org.</b></div><div class=\"sk-container\" hidden><div class=\"sk-item\"><div class=\"sk-estimator sk-toggleable\"><input class=\"sk-toggleable__control sk-hidden--visually\" id=\"sk-estimator-id-2\" type=\"checkbox\" checked><label for=\"sk-estimator-id-2\" class=\"sk-toggleable__label sk-toggleable__label-arrow\">SVC</label><div class=\"sk-toggleable__content\"><pre>SVC(C=1, kernel=&#x27;linear&#x27;)</pre></div></div></div></div></div>"
      ],
      "text/plain": [
       "SVC(C=1, kernel='linear')"
      ]
     },
     "execution_count": 9,
     "metadata": {},
     "output_type": "execute_result"
    }
   ],
   "source": [
    "# Initialize the SVM classifier with a linear kernel\n",
    "svm_classifier = SVC(kernel='linear', C=1)\n",
    "# Train the classifier on the training data\n",
    "svm_classifier.fit(x_train_tfidf, y_train)"
   ]
  },
  {
   "cell_type": "markdown",
   "id": "13ed7f39",
   "metadata": {},
   "source": [
    "## Predict and Calculate the Accuracy"
   ]
  },
  {
   "cell_type": "markdown",
   "id": "6fb632b6",
   "metadata": {},
   "source": [
    "This section involves predicting labels for the test data using SVM and TF-IDF, calculating their accuracy and F1 scores."
   ]
  },
  {
   "cell_type": "code",
   "execution_count": 12,
   "id": "f8de695f",
   "metadata": {},
   "outputs": [
    {
     "name": "stdout",
     "output_type": "stream",
     "text": [
      "SVM Accuracy: 0.77629\n",
      "SVM F1-score: 0.76472\n",
      "TF-IDF Accuracy: 0.77216\n",
      "TF-IDF F1-score: 0.76128\n"
     ]
    }
   ],
   "source": [
    "# Predict labels for the test data\n",
    "y_pred_svm = svm_classifier.predict(x_valid_tfidf)\n",
    "y_pred = model.predict(x_valid_tfidf)\n",
    "# Calculate accuracy and F1 score\n",
    "\n",
    "# SVM evaluation\n",
    "svm_accuracy = accuracy_score(y_test, y_pred_svm)\n",
    "svm_f1_score = f1_score(y_test, y_pred_svm, average='weighted')\n",
    "\n",
    "# TF IDF evaluation\n",
    "TF_IDF_accuracy = accuracy_score(y_test, y_pred)\n",
    "TF_IDF_score = f1_score(y_test, y_pred, average='weighted')\n",
    "\n",
    "print(f\"SVM Accuracy: {svm_accuracy:.5f}\")\n",
    "print(f\"SVM F1-score: {svm_f1_score:.5f}\")\n",
    "\n",
    "print(f\"TF-IDF Accuracy: {TF_IDF_accuracy:.5f}\")\n",
    "print(f\"TF-IDF F1-score: {TF_IDF_score:.5f}\")"
   ]
  }
 ],
 "metadata": {
  "kernelspec": {
   "display_name": "Python 3",
   "language": "python",
   "name": "python3"
  },
  "language_info": {
   "codemirror_mode": {
    "name": "ipython",
    "version": 3
   },
   "file_extension": ".py",
   "mimetype": "text/x-python",
   "name": "python",
   "nbconvert_exporter": "python",
   "pygments_lexer": "ipython3",
   "version": "3.8.10"
  }
 },
 "nbformat": 4,
 "nbformat_minor": 5
}
